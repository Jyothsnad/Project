{
 "cells": [
  {
   "cell_type": "code",
   "execution_count": 1,
   "metadata": {},
   "outputs": [
    {
     "name": "stdout",
     "output_type": "stream",
     "text": [
      "(1200,) 1\n",
      "(1200, 4) 2\n",
      "(1200,) 1\n",
      "(1200, 1) 2\n",
      "(1200, 1) 2\n"
     ]
    }
   ],
   "source": [
    "import numpy as np\n",
    "\n",
    "data_file = np.genfromtxt('data_file.txt',delimiter=',')\n",
    "time = data_file[:,][:,0]\n",
    "time =time-time[0]\n",
    "sensors=data_file[:,][:,1:5]\n",
    "\n",
    "avg = np.mean(sensors,axis =1)\n",
    "print(time.shape,time.ndim)\n",
    "print(sensors.shape,sensors.ndim)\n",
    "print(avg.shape,avg.ndim)\n",
    "\n",
    "time_col =time.reshape(-1,1)\n",
    "print(time_col.shape,time_col.ndim)\n",
    "\n",
    "avg_col =avg.reshape(-1,1)\n",
    "print(avg_col.shape,avg_col.ndim)"
   ]
  },
  {
   "cell_type": "code",
   "execution_count": 2,
   "metadata": {},
   "outputs": [
    {
     "data": {
      "text/plain": [
       "<Figure size 640x480 with 1 Axes>"
      ]
     },
     "metadata": {},
     "output_type": "display_data"
    }
   ],
   "source": [
    "# export \n",
    "\n",
    "export_data = np.concatenate((time_col,sensors,avg_col),axis=1)\n",
    "np.savetxt('export_data_numpy.txt',export_data,delimiter=\",\")\n",
    "\n",
    "import matplotlib.pyplot as plt\n",
    "plt.figure(1)\n",
    "plt.plot(time,sensors[:,][:,0],'r-')\n",
    "plt.plot(time,avg,'b.')\n",
    "plt.legend(['sensor 2','avg'])\n",
    "plt.xlabel('time in sec')\n",
    "plt.ylabel('sensor')\n",
    "plt.savefig(\"my_senso1.png\")\n",
    "plt.show()"
   ]
  }
 ],
 "metadata": {
  "kernelspec": {
   "display_name": "Python 3",
   "language": "python",
   "name": "python3"
  },
  "language_info": {
   "codemirror_mode": {
    "name": "ipython",
    "version": 3
   },
   "file_extension": ".py",
   "mimetype": "text/x-python",
   "name": "python",
   "nbconvert_exporter": "python",
   "pygments_lexer": "ipython3",
   "version": "3.7.0"
  }
 },
 "nbformat": 4,
 "nbformat_minor": 2
}
