{
 "cells": [
  {
   "cell_type": "raw",
   "metadata": {},
   "source": [
    "# What is Regualr Expression\n",
    "----------------------------\n",
    "\n",
    "--> It is a pattern which was used for to do some kind of regular operation on your targeted string\n",
    "\n",
    "\n",
    "# Why we need it (uses)\n",
    "-------------------------\n",
    "\n",
    "--> Which are used for to searching a specific data\n",
    "--> to Delete the specific data\n",
    "--> to Modify teh targeted data\n",
    "--> Finding the specific data\n",
    "--> to Validate the data (username, password)\n",
    "--> to Find given number is phone number or not\n",
    "\n",
    "\n",
    "# Python having builtin module is available\n",
    "----------------------------------------------\n",
    "\n",
    "# it was re module\n"
   ]
  },
  {
   "cell_type": "code",
   "execution_count": 2,
   "metadata": {},
   "outputs": [],
   "source": [
    "import re"
   ]
  },
  {
   "cell_type": "code",
   "execution_count": 3,
   "metadata": {},
   "outputs": [
    {
     "data": {
      "text/plain": [
       "'anjan'"
      ]
     },
     "execution_count": 3,
     "metadata": {},
     "output_type": "execute_result"
    }
   ],
   "source": [
    "# search\n",
    "#group()  --> printing the string\n",
    "\n",
    "s = 'i am anjan kumar'\n",
    "re.search('anjan',s).group()"
   ]
  },
  {
   "cell_type": "code",
   "execution_count": 5,
   "metadata": {},
   "outputs": [
    {
     "data": {
      "text/plain": [
       "'anjan'"
      ]
     },
     "execution_count": 5,
     "metadata": {},
     "output_type": "execute_result"
    }
   ],
   "source": [
    "# match  --> string should be starting of the sentence\n",
    "\n",
    "s = 'anjan i am anjan kumar'\n",
    "re.match('anjan',s).group()"
   ]
  },
  {
   "cell_type": "code",
   "execution_count": 4,
   "metadata": {},
   "outputs": [
    {
     "data": {
      "text/plain": [
       "['anjan', 'anjan']"
      ]
     },
     "execution_count": 4,
     "metadata": {},
     "output_type": "execute_result"
    }
   ],
   "source": [
    "# findall\n",
    "\n",
    "s = 'anjan i am anjan kumar'\n",
    "re.findall('anjan',s)"
   ]
  },
  {
   "cell_type": "code",
   "execution_count": 5,
   "metadata": {},
   "outputs": [
    {
     "data": {
      "text/plain": [
       "'ANJAN i am ANJAN kumar'"
      ]
     },
     "execution_count": 5,
     "metadata": {},
     "output_type": "execute_result"
    }
   ],
   "source": [
    "# sub  --> replace with other string\n",
    "\n",
    "re.sub('anjan','ANJAN',s)"
   ]
  },
  {
   "cell_type": "code",
   "execution_count": 6,
   "metadata": {},
   "outputs": [
    {
     "data": {
      "text/plain": [
       "'ANJAN i am ANJAN kumar'"
      ]
     },
     "execution_count": 6,
     "metadata": {},
     "output_type": "execute_result"
    }
   ],
   "source": [
    "# compile --> same as sub\n",
    "\n",
    "ptr = re.compile('anjan')\n",
    "ptr.sub('ANJAN',s)"
   ]
  },
  {
   "cell_type": "code",
   "execution_count": 19,
   "metadata": {},
   "outputs": [
    {
     "name": "stdout",
     "output_type": "stream",
     "text": [
      "['anjhgan', 'axhhyzn', 'ajhgbln']\n",
      "['anjhgan', 'axhhyzn', 'ajhgbln']\n"
     ]
    }
   ],
   "source": [
    "s = 'anjhgan i am axhhyzn dajhgbln kumar'\n",
    "print(re.findall(r'a.....n',s))\n",
    "print(re.findall(r'a.{5}n',s))"
   ]
  },
  {
   "cell_type": "code",
   "execution_count": 8,
   "metadata": {},
   "outputs": [
    {
     "data": {
      "text/plain": [
       "['an', 'an', 'am', 'an', 'an', 'ar', 'a ', 'al', 'ay', 'a$']"
      ]
     },
     "execution_count": 8,
     "metadata": {},
     "output_type": "execute_result"
    }
   ],
   "source": [
    "# dot(.) --> dot means any character  \n",
    "\n",
    "s = 'anjan i am anjan kumar a al ay lvmbmg a$'\n",
    "re.findall(r'a.',s)"
   ]
  },
  {
   "cell_type": "code",
   "execution_count": 9,
   "metadata": {},
   "outputs": [
    {
     "data": {
      "text/plain": [
       "['annna', 'anna', 'ana', 'aa']"
      ]
     },
     "execution_count": 9,
     "metadata": {},
     "output_type": "execute_result"
    }
   ],
   "source": [
    "# star (*) --> star means repetition\n",
    "\n",
    "s = 'annna anna ana aa'\n",
    "re.findall(r'an*a',s)"
   ]
  },
  {
   "cell_type": "code",
   "execution_count": 10,
   "metadata": {},
   "outputs": [
    {
     "data": {
      "text/plain": [
       "['annna', 'anna', 'ana']"
      ]
     },
     "execution_count": 10,
     "metadata": {},
     "output_type": "execute_result"
    }
   ],
   "source": [
    "# plus (+) --> atleast one time 'n' should be repetive\n",
    "\n",
    "s = 'annna anna ana aa'\n",
    "re.findall(r'an+a',s)"
   ]
  },
  {
   "cell_type": "code",
   "execution_count": 11,
   "metadata": {},
   "outputs": [
    {
     "data": {
      "text/plain": [
       "['ana', 'aa']"
      ]
     },
     "execution_count": 11,
     "metadata": {},
     "output_type": "execute_result"
    }
   ],
   "source": [
    "# question mark (?) --> either zero or one time repetition\n",
    "\n",
    "s = 'annna anna ana aa'\n",
    "re.findall(r'an?a',s)"
   ]
  },
  {
   "cell_type": "code",
   "execution_count": 12,
   "metadata": {},
   "outputs": [
    {
     "data": {
      "text/plain": [
       "['anna', 'anna']"
      ]
     },
     "execution_count": 12,
     "metadata": {},
     "output_type": "execute_result"
    }
   ],
   "source": [
    "# {} --> specific number of count\n",
    "\n",
    "s = 'annna anna ana anna aa'\n",
    "re.findall(r'an{2}a',s)"
   ]
  },
  {
   "cell_type": "code",
   "execution_count": 13,
   "metadata": {},
   "outputs": [
    {
     "data": {
      "text/plain": [
       "['annna', 'anna', 'anna', 'annnna']"
      ]
     },
     "execution_count": 13,
     "metadata": {},
     "output_type": "execute_result"
    }
   ],
   "source": [
    "# {2,4} --> in between 2 to 4\n",
    "\n",
    "s = 'annna anna ana anna annnna annnnna aa'\n",
    "re.findall(r'an{2,4}a',s)"
   ]
  },
  {
   "cell_type": "code",
   "execution_count": 15,
   "metadata": {},
   "outputs": [
    {
     "data": {
      "text/plain": [
       "['ara', 'a1a', 'a2a']"
      ]
     },
     "execution_count": 15,
     "metadata": {},
     "output_type": "execute_result"
    }
   ],
   "source": [
    "# [] --> particular character strings\n",
    "\n",
    "s = 'aea ara a1a a2a jfgghfjg'\n",
    "re.findall(r'a[1r2]a',s)"
   ]
  },
  {
   "cell_type": "code",
   "execution_count": 18,
   "metadata": {},
   "outputs": [
    {
     "data": {
      "text/plain": [
       "['aea', 'a1a']"
      ]
     },
     "execution_count": 18,
     "metadata": {},
     "output_type": "execute_result"
    }
   ],
   "source": [
    "# | --> any one particular character strings\n",
    "\n",
    "s = 'aea ara a1a a2a jfgghfjg'\n",
    "re.findall(r'a1a|aea',s)"
   ]
  },
  {
   "cell_type": "code",
   "execution_count": 24,
   "metadata": {},
   "outputs": [
    {
     "data": {
      "text/plain": [
       "[' ', ' ', ' ', ' ']"
      ]
     },
     "execution_count": 24,
     "metadata": {},
     "output_type": "execute_result"
    }
   ],
   "source": [
    "# backslashs / --> access only spaces\n",
    "\n",
    "s = 'aea ara a1a a2a jfgghfjg'\n",
    "re.findall(r'\\s',s)"
   ]
  },
  {
   "cell_type": "code",
   "execution_count": 19,
   "metadata": {},
   "outputs": [
    {
     "data": {
      "text/plain": [
       "['1', '2']"
      ]
     },
     "execution_count": 19,
     "metadata": {},
     "output_type": "execute_result"
    }
   ],
   "source": [
    "# backslashs / --> access only digits\n",
    "\n",
    "s = 'aea ara a1a a2a jfgghfjg'\n",
    "re.findall(r'\\d',s)"
   ]
  },
  {
   "cell_type": "code",
   "execution_count": 20,
   "metadata": {},
   "outputs": [
    {
     "data": {
      "text/plain": [
       "['a',\n",
       " 'e',\n",
       " 'a',\n",
       " ' ',\n",
       " 'a',\n",
       " 'r',\n",
       " 'a',\n",
       " ' ',\n",
       " 'a',\n",
       " 'a',\n",
       " ' ',\n",
       " 'a',\n",
       " 'a',\n",
       " ' ',\n",
       " 'j',\n",
       " 'f',\n",
       " 'g',\n",
       " 'g',\n",
       " 'h',\n",
       " 'f',\n",
       " 'j',\n",
       " 'g']"
      ]
     },
     "execution_count": 20,
     "metadata": {},
     "output_type": "execute_result"
    }
   ],
   "source": [
    "# backslashs / --> access everything except digits\n",
    "\n",
    "s = 'aea ara a1a a2a jfgghfjg'\n",
    "re.findall(r'\\D',s)"
   ]
  },
  {
   "cell_type": "code",
   "execution_count": 21,
   "metadata": {},
   "outputs": [
    {
     "data": {
      "text/plain": [
       "['a',\n",
       " 'e',\n",
       " 'a',\n",
       " 'a',\n",
       " 'r',\n",
       " 'a',\n",
       " 'a',\n",
       " '1',\n",
       " 'a',\n",
       " 'a',\n",
       " '2',\n",
       " 'a',\n",
       " 'j',\n",
       " 'f',\n",
       " 'g',\n",
       " 'g',\n",
       " 'h',\n",
       " 'f',\n",
       " 'j',\n",
       " 'g']"
      ]
     },
     "execution_count": 21,
     "metadata": {},
     "output_type": "execute_result"
    }
   ],
   "source": [
    "# backslashs / --> access everything except special characters\n",
    "\n",
    "s = 'aea ara a1a a2a jfgghfjg #$$%'\n",
    "re.findall(r'\\w',s)"
   ]
  },
  {
   "cell_type": "code",
   "execution_count": 23,
   "metadata": {},
   "outputs": [
    {
     "data": {
      "text/plain": [
       "[' ', ' ', ' ', ' ', ' ', '#', '$', '%']"
      ]
     },
     "execution_count": 23,
     "metadata": {},
     "output_type": "execute_result"
    }
   ],
   "source": [
    "# backslashs / --> access spaces and special characters\n",
    "\n",
    "s = 'aea ara a1a a2a jfgghfjg #$%'\n",
    "re.findall(r'\\W',s)"
   ]
  },
  {
   "cell_type": "code",
   "execution_count": 26,
   "metadata": {},
   "outputs": [
    {
     "data": {
      "text/plain": [
       "['9640987960', '9533556189']"
      ]
     },
     "execution_count": 26,
     "metadata": {},
     "output_type": "execute_result"
    }
   ],
   "source": [
    "a = 'jflkg9640987960 eeithrh9533556189 hhgfghg'\n",
    "re.findall(r'\\d{10}',a)"
   ]
  },
  {
   "cell_type": "code",
   "execution_count": 4,
   "metadata": {},
   "outputs": [
    {
     "name": "stdout",
     "output_type": "stream",
     "text": [
      "6\n"
     ]
    }
   ],
   "source": [
    "# open a file read the find how many soc words are available\n",
    "\n",
    "fo = open('Anjan1.txt','r')\n",
    "data = fo.read()\n",
    "a = re.findall('soc',data)\n",
    "print(len(a))\n",
    "fo.close()"
   ]
  }
 ],
 "metadata": {
  "kernelspec": {
   "display_name": "Python 3",
   "language": "python",
   "name": "python3"
  },
  "language_info": {
   "codemirror_mode": {
    "name": "ipython",
    "version": 3
   },
   "file_extension": ".py",
   "mimetype": "text/x-python",
   "name": "python",
   "nbconvert_exporter": "python",
   "pygments_lexer": "ipython3",
   "version": "3.7.0"
  }
 },
 "nbformat": 4,
 "nbformat_minor": 2
}
