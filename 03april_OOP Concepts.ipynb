{
 "cells": [
  {
   "cell_type": "code",
   "execution_count": 4,
   "metadata": {},
   "outputs": [],
   "source": [
    "# class\n",
    "\n",
    "class Class_name():\n",
    "    a = 123\n",
    "    def fun(self):\n",
    "        print('*****')\n",
    "        print(self.a)\n",
    "        print('*****')"
   ]
  },
  {
   "cell_type": "code",
   "execution_count": 9,
   "metadata": {},
   "outputs": [
    {
     "name": "stdout",
     "output_type": "stream",
     "text": [
      "123\n",
      "*****\n",
      "123\n",
      "*****\n",
      "340\n",
      "*****\n",
      "340\n",
      "*****\n"
     ]
    }
   ],
   "source": [
    "# object \n",
    "\n",
    "obj = Class_name()\n",
    "\n",
    "print(obj.a)\n",
    "obj.fun()\n",
    "\n",
    "\n",
    "obj1 = Class_name()\n",
    "obj1.a = 340\n",
    "print(obj1.a)\n",
    "obj1.fun()"
   ]
  },
  {
   "cell_type": "code",
   "execution_count": 2,
   "metadata": {},
   "outputs": [
    {
     "name": "stdout",
     "output_type": "stream",
     "text": [
      "name =  Deepa\n",
      "roll =  420\n",
      "class =  B.Tech\n",
      "name =  Ramu\n",
      "roll =  458\n",
      "class =  B.Com\n"
     ]
    }
   ],
   "source": [
    "# create student class with name and id\n",
    "# atleast two methods to print the name and id\n",
    "\n",
    "'''\n",
    "class Student:\n",
    "    st_name = 'Anjan'\n",
    "    st_id = 1\n",
    "    def sname(name):\n",
    "        print(name.st_name)\n",
    "    def sid(no):\n",
    "        print(no.st_id)\n",
    "\n",
    "obj = Student()\n",
    "obj.sname()\n",
    "obj.sid()\n",
    "'''\n",
    "\n",
    "class Student():\n",
    "    name = ''   # Class variables\n",
    "    roll = ''\n",
    "    clas = ''\n",
    "    def details(self):\n",
    "        print('name = ',self.name)\n",
    "        print('roll = ',self.roll)\n",
    "        print('class = ',self.clas)\n",
    "    def set_det(self,name,roll,clas):\n",
    "        self.name = name\n",
    "        self.roll = roll\n",
    "        self.clas = clas\n",
    "\n",
    "std1 = Student()\n",
    "std2 = Student()\n",
    "std1.set_det('Deepa',420,'B.Tech')\n",
    "std2.set_det('Ramu',458,'B.Com')\n",
    "std1.details()\n",
    "std2.details()"
   ]
  },
  {
   "cell_type": "code",
   "execution_count": 16,
   "metadata": {},
   "outputs": [
    {
     "name": "stdout",
     "output_type": "stream",
     "text": [
      "Anjan\n",
      "123\n"
     ]
    }
   ],
   "source": [
    "# create employee class with name and id\n",
    "# atleast two methods to print the name and id\n",
    "\n",
    "class Employee:\n",
    "    emp_name = 'Anjan'\n",
    "    emp_id = 123\n",
    "    def ename(name):\n",
    "        print(name.emp_name)\n",
    "    def eid(no):\n",
    "        print(no.emp_id)\n",
    "\n",
    "obj = Employee()\n",
    "obj.ename()\n",
    "obj.eid()"
   ]
  },
  {
   "cell_type": "code",
   "execution_count": 6,
   "metadata": {},
   "outputs": [
    {
     "name": "stdout",
     "output_type": "stream",
     "text": [
      "I am constructor\n",
      "I am constructor\n",
      "name =  Deepa\n",
      "roll =  420\n",
      "class =  B.Tech\n",
      "name =  Ramu\n",
      "roll =  458\n",
      "class =  B.Com\n"
     ]
    }
   ],
   "source": [
    "# Parameterized Constructor\n",
    "\n",
    "class Student():\n",
    "    name = ''\n",
    "    roll = ''\n",
    "    clas = ''\n",
    "    # constructor method\n",
    "    '''\n",
    "    constructor is a method is automatically execute while creating a object\n",
    "    '''\n",
    "    def __init__(self,name,roll,clas):  # Parameterized constructor\n",
    "        print('I am constructor')\n",
    "        self.name = name    # Instance Variables\n",
    "        self.roll = roll\n",
    "        self.clas = clas\n",
    "    def details(self):\n",
    "        print('name = ',self.name)\n",
    "        print('roll = ',self.roll)\n",
    "        print('class = ',self.clas)\n",
    "   \n",
    "std1 = Student('Deepa',420,'B.Tech')  \n",
    "std2 = Student('Ramu',458,'B.Com')\n",
    "#std1.set_det('Deepa',420,'B.Tech')\n",
    "#std2.set_det('Ramu',458,'B.Com')\n",
    "std1.details()\n",
    "std2.details()"
   ]
  },
  {
   "cell_type": "code",
   "execution_count": 8,
   "metadata": {},
   "outputs": [
    {
     "name": "stdout",
     "output_type": "stream",
     "text": [
      "i am unparametrized constructor\n",
      "i am unparametrized constructor\n",
      "i am unparametrized constructor\n"
     ]
    }
   ],
   "source": [
    "# Unparametrized Constructor\n",
    "\n",
    "class Std():\n",
    "    def __init__(self):\n",
    "        print('i am unparametrized constructor')\n",
    "    def met(self):\n",
    "        print('i am normal method')\n",
    "\n",
    "obj1 = Std()\n",
    "obj2 = Std()\n",
    "obj3 = Std()"
   ]
  },
  {
   "cell_type": "code",
   "execution_count": 9,
   "metadata": {},
   "outputs": [
    {
     "name": "stdout",
     "output_type": "stream",
     "text": [
      "i am unparametrized constructor\n",
      "i am unparametrized constructor\n",
      "i am unparametrized constructor\n",
      "i am distructor\n",
      "i am distructor\n"
     ]
    }
   ],
   "source": [
    "# Destructor\n",
    "\n",
    "class Std():\n",
    "    def __init__(self):\n",
    "        print('i am unparametrized constructor')\n",
    "    def __del__(self):\n",
    "        print('i am distructor')\n",
    "\n",
    "obj1 = Std()\n",
    "obj2 = Std()\n",
    "obj3 = Std()\n",
    "\n",
    "del obj1\n",
    "del obj3"
   ]
  },
  {
   "cell_type": "code",
   "execution_count": 11,
   "metadata": {},
   "outputs": [
    {
     "name": "stdout",
     "output_type": "stream",
     "text": [
      "123\n"
     ]
    },
    {
     "ename": "AttributeError",
     "evalue": "'Std' object has no attribute '__cl'",
     "output_type": "error",
     "traceback": [
      "\u001b[1;31m---------------------------------------------------------------------------\u001b[0m",
      "\u001b[1;31mAttributeError\u001b[0m                            Traceback (most recent call last)",
      "\u001b[1;32m<ipython-input-11-0ba4153b8b68>\u001b[0m in \u001b[0;36m<module>\u001b[1;34m()\u001b[0m\n\u001b[0;32m      7\u001b[0m \u001b[0mobj\u001b[0m \u001b[1;33m=\u001b[0m \u001b[0mStd\u001b[0m\u001b[1;33m(\u001b[0m\u001b[1;33m)\u001b[0m\u001b[1;33m\u001b[0m\u001b[0m\n\u001b[0;32m      8\u001b[0m \u001b[0mprint\u001b[0m\u001b[1;33m(\u001b[0m\u001b[0mobj\u001b[0m\u001b[1;33m.\u001b[0m\u001b[0mcls\u001b[0m\u001b[1;33m)\u001b[0m\u001b[1;33m\u001b[0m\u001b[0m\n\u001b[1;32m----> 9\u001b[1;33m \u001b[0mprint\u001b[0m\u001b[1;33m(\u001b[0m\u001b[0mobj\u001b[0m\u001b[1;33m.\u001b[0m\u001b[0m__cl\u001b[0m\u001b[1;33m)\u001b[0m\u001b[1;33m\u001b[0m\u001b[0m\n\u001b[0m",
      "\u001b[1;31mAttributeError\u001b[0m: 'Std' object has no attribute '__cl'"
     ]
    }
   ],
   "source": [
    "# Data Hiding\n",
    "\n",
    "class Std():\n",
    "    cls = '123'  # public class variable\n",
    "    __cl = '222' # private class variable (starting with two underscore__)\n",
    "    \n",
    "obj = Std()\n",
    "print(obj.cls)\n",
    "print(obj.__cl) # hiding "
   ]
  },
  {
   "cell_type": "code",
   "execution_count": 13,
   "metadata": {},
   "outputs": [
    {
     "name": "stdout",
     "output_type": "stream",
     "text": [
      "123\n",
      "222\n"
     ]
    }
   ],
   "source": [
    "# Data Encpasulation  --> The process of hiding data\n",
    "\n",
    "class Std():\n",
    "    cls = '123'  # public class variable\n",
    "    __cl = '222' # private class variable (starting with two underscore__)\n",
    "    \n",
    "obj = Std()\n",
    "print(obj.cls)\n",
    "print(obj._Std__cl) # hiding access"
   ]
  },
  {
   "cell_type": "code",
   "execution_count": 14,
   "metadata": {},
   "outputs": [
    {
     "data": {
      "text/plain": [
       "30"
      ]
     },
     "execution_count": 14,
     "metadata": {},
     "output_type": "execute_result"
    }
   ],
   "source": [
    "# Operator Overloading\n",
    "\n",
    "10+20"
   ]
  },
  {
   "cell_type": "code",
   "execution_count": 15,
   "metadata": {},
   "outputs": [
    {
     "data": {
      "text/plain": [
       "'1020'"
      ]
     },
     "execution_count": 15,
     "metadata": {},
     "output_type": "execute_result"
    }
   ],
   "source": [
    "'10'+'20'"
   ]
  },
  {
   "cell_type": "code",
   "execution_count": 16,
   "metadata": {},
   "outputs": [
    {
     "data": {
      "text/plain": [
       "-20"
      ]
     },
     "execution_count": 16,
     "metadata": {},
     "output_type": "execute_result"
    }
   ],
   "source": [
    "# Operator Overridding\n",
    "\n",
    "10+30\n",
    "10-30"
   ]
  },
  {
   "cell_type": "code",
   "execution_count": 17,
   "metadata": {},
   "outputs": [
    {
     "name": "stdout",
     "output_type": "stream",
     "text": [
      "i am fun with single arg\n",
      "i am fun with single arg\n"
     ]
    }
   ],
   "source": [
    "# Method Overridding\n",
    "\n",
    "class Std():\n",
    "    def fun(self):\n",
    "        print('i am fun with no arg')\n",
    "    def fun(self,a=2):\n",
    "        print('i am fun with single arg')\n",
    "\n",
    "obj = Std()\n",
    "obj.fun()\n",
    "obj.fun(23)\n",
    "\n",
    "# Method Overloading is not supported in python"
   ]
  },
  {
   "cell_type": "code",
   "execution_count": 1,
   "metadata": {},
   "outputs": [
    {
     "name": "stdout",
     "output_type": "stream",
     "text": [
      "i am Class1 method\n",
      "i am Class2 method\n"
     ]
    }
   ],
   "source": [
    "# Polymorphism\n",
    "\n",
    "'''\n",
    "Method Overloading is not supported in python\n",
    "so that Polymorphism also not supported in python\n",
    "\n",
    "--> Same function can do multiple tasks\n",
    "'''\n",
    "\n",
    "class Class1():\n",
    "    def fun(self):\n",
    "        print('i am Class1 method')\n",
    "class Class2():\n",
    "    def fun(self):\n",
    "        print('i am Class2 method')\n",
    "\n",
    "obj1 = Class1()\n",
    "obj2 = Class2()\n",
    "obj1.fun()\n",
    "obj2.fun()"
   ]
  },
  {
   "cell_type": "code",
   "execution_count": 3,
   "metadata": {},
   "outputs": [
    {
     "name": "stdout",
     "output_type": "stream",
     "text": [
      "I am Derived class property\n",
      "I am Base class property\n"
     ]
    }
   ],
   "source": [
    "# Inheritance\n",
    "\n",
    "'''\n",
    "one class properties  ---> another class\n",
    "\n",
    "1. Simple Inheritance\n",
    "2. Multilevel Inheritance\n",
    "3. Multiple Inheritance\n",
    "\n",
    "'''\n",
    "\n",
    "# Simple Inheritance\n",
    "\n",
    "'''\n",
    "single Base class(parent class) properties  --> Derived class(child class)\n",
    "'''\n",
    "class Base():\n",
    "    def base_met(self):\n",
    "        print('I am Base class property')\n",
    "class Derived(Base):                            # we can give the base class name as argument\n",
    "    def deri_met(self):\n",
    "        print('I am Derived class property')\n",
    "\n",
    "obj = Derived()\n",
    "obj.deri_met()\n",
    "obj.base_met()"
   ]
  },
  {
   "cell_type": "code",
   "execution_count": 4,
   "metadata": {},
   "outputs": [
    {
     "name": "stdout",
     "output_type": "stream",
     "text": [
      "I am Derived class property\n",
      "I am Base1 class property\n",
      "I am Base2 class property\n"
     ]
    }
   ],
   "source": [
    "# Mutliple Inheritance\n",
    "'''\n",
    "single derived class with multiple base classes\n",
    "'''\n",
    "\n",
    "class Base1():\n",
    "    def base1_met(self):\n",
    "        print('I am Base1 class property')\n",
    "class Base2():\n",
    "    def base2_met(self):\n",
    "        print('I am Base2 class property')\n",
    "class Derived(Base1,Base2):                           \n",
    "    def deri_met(self):\n",
    "        print('I am Derived class property')\n",
    "\n",
    "obj = Derived()\n",
    "obj.deri_met()\n",
    "obj.base1_met()\n",
    "obj.base2_met()"
   ]
  },
  {
   "cell_type": "code",
   "execution_count": 5,
   "metadata": {},
   "outputs": [
    {
     "name": "stdout",
     "output_type": "stream",
     "text": [
      "I am Derived class property\n",
      "I am Base1 class property\n",
      "I am Base2 class property\n"
     ]
    }
   ],
   "source": [
    "# Multilevel Inheritance\n",
    "'''\n",
    "multiple derived class with multiple base classes\n",
    "'''\n",
    "class Base1():  # parent\n",
    "    def base1_met(self):\n",
    "        print('I am Base1 class property')\n",
    "class Base2(Base1):  # child for base1\n",
    "    def base2_met(self):\n",
    "        print('I am Base2 class property')\n",
    "class Derived(Base2):     # child for derived                       \n",
    "    def deri_met(self):\n",
    "        print('I am Derived class property')\n",
    "\n",
    "obj = Derived()\n",
    "obj.deri_met()\n",
    "obj.base1_met()\n",
    "obj.base2_met()"
   ]
  }
 ],
 "metadata": {
  "kernelspec": {
   "display_name": "Python 3",
   "language": "python",
   "name": "python3"
  },
  "language_info": {
   "codemirror_mode": {
    "name": "ipython",
    "version": 3
   },
   "file_extension": ".py",
   "mimetype": "text/x-python",
   "name": "python",
   "nbconvert_exporter": "python",
   "pygments_lexer": "ipython3",
   "version": "3.7.0"
  }
 },
 "nbformat": 4,
 "nbformat_minor": 2
}
