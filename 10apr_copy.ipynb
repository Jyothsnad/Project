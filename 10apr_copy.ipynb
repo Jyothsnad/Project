{
 "cells": [
  {
   "cell_type": "code",
   "execution_count": 1,
   "metadata": {},
   "outputs": [],
   "source": [
    "a = [1,2,3,4]\n",
    "b = []"
   ]
  },
  {
   "cell_type": "code",
   "execution_count": 2,
   "metadata": {},
   "outputs": [
    {
     "name": "stdout",
     "output_type": "stream",
     "text": [
      "2086446302536\n",
      "2086455056776\n"
     ]
    }
   ],
   "source": [
    "print(id(a))\n",
    "print(id(b))"
   ]
  },
  {
   "cell_type": "code",
   "execution_count": 3,
   "metadata": {},
   "outputs": [
    {
     "name": "stdout",
     "output_type": "stream",
     "text": [
      "2086446302536\n",
      "2086455056520\n",
      "[1, 2, 3, 4]\n",
      "[1, 2, 3, 4, 34]\n"
     ]
    }
   ],
   "source": [
    "# shellow copy  --> if update one variable it won't affect in main variable\n",
    "\n",
    "b = a.copy()  \n",
    "\n",
    "print(id(a))\n",
    "print(id(b))\n",
    "\n",
    "b.append(34)\n",
    "\n",
    "print(a)\n",
    "print(b)"
   ]
  },
  {
   "cell_type": "code",
   "execution_count": 4,
   "metadata": {},
   "outputs": [
    {
     "name": "stdout",
     "output_type": "stream",
     "text": [
      "2086446302536\n",
      "2086446302536\n",
      "[1, 2, 3, 4, 78]\n",
      "[1, 2, 3, 4, 78]\n"
     ]
    }
   ],
   "source": [
    "# Deep copy  --> if update one variable it will affect in main variable\n",
    "\n",
    "b = a \n",
    "\n",
    "print(id(a))\n",
    "print(id(b))\n",
    "\n",
    "b.append(78)\n",
    "\n",
    "print(a)\n",
    "print(b)"
   ]
  }
 ],
 "metadata": {
  "kernelspec": {
   "display_name": "Python 3",
   "language": "python",
   "name": "python3"
  },
  "language_info": {
   "codemirror_mode": {
    "name": "ipython",
    "version": 3
   },
   "file_extension": ".py",
   "mimetype": "text/x-python",
   "name": "python",
   "nbconvert_exporter": "python",
   "pygments_lexer": "ipython3",
   "version": "3.7.0"
  }
 },
 "nbformat": 4,
 "nbformat_minor": 2
}
