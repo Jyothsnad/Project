{
 "cells": [
  {
   "cell_type": "code",
   "execution_count": 1,
   "metadata": {},
   "outputs": [
    {
     "name": "stdout",
     "output_type": "stream",
     "text": [
      "Hello\n"
     ]
    }
   ],
   "source": [
    "print('Hello')"
   ]
  },
  {
   "cell_type": "code",
   "execution_count": 2,
   "metadata": {},
   "outputs": [
    {
     "ename": "SyntaxError",
     "evalue": "EOL while scanning string literal (<ipython-input-2-ce6d41f05bc2>, line 3)",
     "output_type": "error",
     "traceback": [
      "\u001b[1;36m  File \u001b[1;32m\"<ipython-input-2-ce6d41f05bc2>\"\u001b[1;36m, line \u001b[1;32m3\u001b[0m\n\u001b[1;33m    print('Hello\")\u001b[0m\n\u001b[1;37m                  ^\u001b[0m\n\u001b[1;31mSyntaxError\u001b[0m\u001b[1;31m:\u001b[0m EOL while scanning string literal\n"
     ]
    }
   ],
   "source": [
    "# Syntax Error\n",
    "\n",
    "print('Hello\")"
   ]
  },
  {
   "cell_type": "code",
   "execution_count": 3,
   "metadata": {},
   "outputs": [
    {
     "ename": "SyntaxError",
     "evalue": "unexpected EOF while parsing (<ipython-input-3-725bb0f12fbb>, line 1)",
     "output_type": "error",
     "traceback": [
      "\u001b[1;36m  File \u001b[1;32m\"<ipython-input-3-725bb0f12fbb>\"\u001b[1;36m, line \u001b[1;32m1\u001b[0m\n\u001b[1;33m    print('Hello'\u001b[0m\n\u001b[1;37m                 ^\u001b[0m\n\u001b[1;31mSyntaxError\u001b[0m\u001b[1;31m:\u001b[0m unexpected EOF while parsing\n"
     ]
    }
   ],
   "source": [
    "print('Hello'"
   ]
  },
  {
   "cell_type": "code",
   "execution_count": 4,
   "metadata": {},
   "outputs": [
    {
     "ename": "IndentationError",
     "evalue": "unexpected indent (<ipython-input-4-aa2858696260>, line 3)",
     "output_type": "error",
     "traceback": [
      "\u001b[1;36m  File \u001b[1;32m\"<ipython-input-4-aa2858696260>\"\u001b[1;36m, line \u001b[1;32m3\u001b[0m\n\u001b[1;33m    print('Hai')\u001b[0m\n\u001b[1;37m    ^\u001b[0m\n\u001b[1;31mIndentationError\u001b[0m\u001b[1;31m:\u001b[0m unexpected indent\n"
     ]
    }
   ],
   "source": [
    "if(True):\n",
    "    print('Hello')\n",
    "     print('Hai')"
   ]
  },
  {
   "cell_type": "code",
   "execution_count": 5,
   "metadata": {},
   "outputs": [
    {
     "name": "stdout",
     "output_type": "stream",
     "text": [
      "Hello\n"
     ]
    },
    {
     "ename": "ZeroDivisionError",
     "evalue": "division by zero",
     "output_type": "error",
     "traceback": [
      "\u001b[1;31m---------------------------------------------------------------------------\u001b[0m",
      "\u001b[1;31mZeroDivisionError\u001b[0m                         Traceback (most recent call last)",
      "\u001b[1;32m<ipython-input-5-82bc8b598fd2>\u001b[0m in \u001b[0;36m<module>\u001b[1;34m()\u001b[0m\n\u001b[0;32m      2\u001b[0m \u001b[1;33m\u001b[0m\u001b[0m\n\u001b[0;32m      3\u001b[0m \u001b[0mprint\u001b[0m\u001b[1;33m(\u001b[0m\u001b[1;34m'Hello'\u001b[0m\u001b[1;33m)\u001b[0m\u001b[1;33m\u001b[0m\u001b[0m\n\u001b[1;32m----> 4\u001b[1;33m \u001b[0mprint\u001b[0m\u001b[1;33m(\u001b[0m\u001b[1;36m1\u001b[0m\u001b[1;33m/\u001b[0m\u001b[1;36m0\u001b[0m\u001b[1;33m)\u001b[0m\u001b[1;33m\u001b[0m\u001b[0m\n\u001b[0m\u001b[0;32m      5\u001b[0m \u001b[0mprint\u001b[0m\u001b[1;33m(\u001b[0m\u001b[1;34m'Hai'\u001b[0m\u001b[1;33m)\u001b[0m\u001b[1;33m\u001b[0m\u001b[0m\n",
      "\u001b[1;31mZeroDivisionError\u001b[0m: division by zero"
     ]
    }
   ],
   "source": [
    "# Runtime Error\n",
    "\n",
    "print('Hello')\n",
    "print(1/0)\n",
    "print('Hai')"
   ]
  },
  {
   "cell_type": "markdown",
   "metadata": {},
   "source": [
    "# Exception Handling\n",
    "\n",
    "--> We don't want to stop the execution of the program even we got exception\n",
    "\n",
    "--> We need two important keywords\n",
    "\n",
    "1. try\n",
    "2. except"
   ]
  },
  {
   "cell_type": "code",
   "execution_count": null,
   "metadata": {},
   "outputs": [],
   "source": [
    "# try\n",
    "\n",
    "'''\n",
    "--> try is a block which having body of the program\n",
    "--> which always try to check the exception\n",
    "--> whenver we got the exception, it can stop execution of the try block\n",
    "--> thrown the exception\n",
    "'''\n",
    "\n",
    "# except\n",
    "\n",
    "'''\n",
    "--> whenever we got exception, except keyword can handling the exception\n",
    "'''"
   ]
  },
  {
   "cell_type": "code",
   "execution_count": 7,
   "metadata": {},
   "outputs": [
    {
     "name": "stdout",
     "output_type": "stream",
     "text": [
      "Hello\n",
      "Hai\n",
      "Bye\n"
     ]
    }
   ],
   "source": [
    "try:\n",
    "    print('Hello')\n",
    "    print('Hai')\n",
    "    #print(1/0)\n",
    "    print('Bye')\n",
    "except:\n",
    "    print('i got exception')\n",
    "    print('so that i can execute')    "
   ]
  },
  {
   "cell_type": "code",
   "execution_count": 10,
   "metadata": {},
   "outputs": [
    {
     "name": "stdout",
     "output_type": "stream",
     "text": [
      "Hello\n",
      "Hai\n",
      "i got exception\n",
      "so that i can execute\n"
     ]
    }
   ],
   "source": [
    "try:\n",
    "    print('Hello')\n",
    "    print('Hai')\n",
    "    print(1/0)\n",
    "    print('Bye')\n",
    "except:\n",
    "    print('i got exception')\n",
    "    print('so that i can execute')    "
   ]
  },
  {
   "cell_type": "markdown",
   "metadata": {},
   "source": [
    "we have two more Keywords (optional)\n",
    "\n",
    "1. else\n",
    "   --> else block will execute when no more exception\n",
    "\n",
    "2. finally\n",
    "   --> finally is a block it can execute in any situation"
   ]
  },
  {
   "cell_type": "code",
   "execution_count": 11,
   "metadata": {},
   "outputs": [
    {
     "name": "stdout",
     "output_type": "stream",
     "text": [
      "Hello\n",
      "Hai\n",
      "i got exception\n",
      "so that i can execute\n",
      "finally can execute in any situation\n"
     ]
    }
   ],
   "source": [
    "try:\n",
    "    print('Hello')\n",
    "    print('Hai')\n",
    "    print(1/0)\n",
    "    print('Bye')\n",
    "except:\n",
    "    print('i got exception')\n",
    "    print('so that i can execute')    \n",
    "else:\n",
    "    print('i can execute when no more exception')\n",
    "finally:\n",
    "    print('finally can execute in any situation')"
   ]
  },
  {
   "cell_type": "code",
   "execution_count": 12,
   "metadata": {},
   "outputs": [
    {
     "name": "stdout",
     "output_type": "stream",
     "text": [
      "Hello\n",
      "Hai\n",
      "Bye\n",
      "i can execute when no more exception\n",
      "finally can execute in any situation\n"
     ]
    }
   ],
   "source": [
    "try:\n",
    "    print('Hello')\n",
    "    print('Hai')\n",
    "    #print(1/0)\n",
    "    print('Bye')\n",
    "except:\n",
    "    print('i got exception')\n",
    "    print('so that i can execute')    \n",
    "else:\n",
    "    print('i can execute when no more exception')\n",
    "finally:\n",
    "    print('finally can execute in any situation')"
   ]
  },
  {
   "cell_type": "code",
   "execution_count": 13,
   "metadata": {},
   "outputs": [
    {
     "name": "stdout",
     "output_type": "stream",
     "text": [
      "Hello\n",
      "Hai\n",
      "i got exception\n",
      "so that i can execute\n",
      "finally can execute in any situation\n"
     ]
    }
   ],
   "source": [
    "# raise   --> we can raise the exception intentially (thrown error)\n",
    "\n",
    "try:\n",
    "    print('Hello')\n",
    "    print('Hai')\n",
    "    raise\n",
    "    print('Bye')\n",
    "except:\n",
    "    print('i got exception')\n",
    "    print('so that i can execute')    \n",
    "else:\n",
    "    print('i can execute when no more exception')\n",
    "finally:\n",
    "    print('finally can execute in any situation')"
   ]
  },
  {
   "cell_type": "code",
   "execution_count": 17,
   "metadata": {},
   "outputs": [
    {
     "name": "stdout",
     "output_type": "stream",
     "text": [
      "Hello\n",
      "Hai\n",
      "i got exception\n",
      "so that i can execute\n",
      "finally can execute in any situation\n"
     ]
    }
   ],
   "source": [
    "try:\n",
    "    print('Hello')\n",
    "    print('Hai')\n",
    "    open('jyothsna','r')\n",
    "    print('Bye')\n",
    "except:\n",
    "    print('i got exception')\n",
    "    print('so that i can execute')    \n",
    "else:\n",
    "    print('i can execute when no more exception')\n",
    "finally:\n",
    "    print('finally can execute in any situation')"
   ]
  },
  {
   "cell_type": "code",
   "execution_count": 18,
   "metadata": {},
   "outputs": [
    {
     "name": "stdout",
     "output_type": "stream",
     "text": [
      "Hello\n",
      "Hai\n",
      "i got exception\n",
      "so that i can execute\n",
      "finally can execute in any situation\n"
     ]
    }
   ],
   "source": [
    "try:\n",
    "    print('Hello')\n",
    "    print('Hai')\n",
    "    int('sjakljdkla')\n",
    "    print('Bye')\n",
    "except:\n",
    "    print('i got exception')\n",
    "    print('so that i can execute')    \n",
    "else:\n",
    "    print('i can execute when no more exception')\n",
    "finally:\n",
    "    print('finally can execute in any situation')"
   ]
  },
  {
   "cell_type": "code",
   "execution_count": 19,
   "metadata": {},
   "outputs": [
    {
     "ename": "ValueError",
     "evalue": "invalid literal for int() with base 10: 'jyothsna'",
     "output_type": "error",
     "traceback": [
      "\u001b[1;31m---------------------------------------------------------------------------\u001b[0m",
      "\u001b[1;31mValueError\u001b[0m                                Traceback (most recent call last)",
      "\u001b[1;32m<ipython-input-19-31d6a34c7828>\u001b[0m in \u001b[0;36m<module>\u001b[1;34m()\u001b[0m\n\u001b[1;32m----> 1\u001b[1;33m \u001b[0mint\u001b[0m\u001b[1;33m(\u001b[0m\u001b[1;34m'jyothsna'\u001b[0m\u001b[1;33m)\u001b[0m\u001b[1;33m\u001b[0m\u001b[0m\n\u001b[0m",
      "\u001b[1;31mValueError\u001b[0m: invalid literal for int() with base 10: 'jyothsna'"
     ]
    }
   ],
   "source": [
    "int('jyothsna')"
   ]
  },
  {
   "cell_type": "code",
   "execution_count": 20,
   "metadata": {},
   "outputs": [
    {
     "ename": "TypeError",
     "evalue": "can't convert complex to int",
     "output_type": "error",
     "traceback": [
      "\u001b[1;31m---------------------------------------------------------------------------\u001b[0m",
      "\u001b[1;31mTypeError\u001b[0m                                 Traceback (most recent call last)",
      "\u001b[1;32m<ipython-input-20-d76730f5fee0>\u001b[0m in \u001b[0;36m<module>\u001b[1;34m()\u001b[0m\n\u001b[1;32m----> 1\u001b[1;33m \u001b[0mint\u001b[0m\u001b[1;33m(\u001b[0m\u001b[1;36m4\u001b[0m\u001b[1;33m+\u001b[0m\u001b[1;36m5j\u001b[0m\u001b[1;33m)\u001b[0m\u001b[1;33m\u001b[0m\u001b[0m\n\u001b[0m",
      "\u001b[1;31mTypeError\u001b[0m: can't convert complex to int"
     ]
    }
   ],
   "source": [
    "int(4+5j)"
   ]
  },
  {
   "cell_type": "code",
   "execution_count": 21,
   "metadata": {},
   "outputs": [
    {
     "ename": "FileNotFoundError",
     "evalue": "[Errno 2] No such file or directory: 'Jyothsna'",
     "output_type": "error",
     "traceback": [
      "\u001b[1;31m---------------------------------------------------------------------------\u001b[0m",
      "\u001b[1;31mFileNotFoundError\u001b[0m                         Traceback (most recent call last)",
      "\u001b[1;32m<ipython-input-21-fb92b496a3ab>\u001b[0m in \u001b[0;36m<module>\u001b[1;34m()\u001b[0m\n\u001b[1;32m----> 1\u001b[1;33m \u001b[0mopen\u001b[0m\u001b[1;33m(\u001b[0m\u001b[1;34m'Jyothsna'\u001b[0m\u001b[1;33m,\u001b[0m\u001b[1;34m'r'\u001b[0m\u001b[1;33m)\u001b[0m\u001b[1;33m\u001b[0m\u001b[0m\n\u001b[0m",
      "\u001b[1;31mFileNotFoundError\u001b[0m: [Errno 2] No such file or directory: 'Jyothsna'"
     ]
    }
   ],
   "source": [
    "open('Jyothsna','r')"
   ]
  },
  {
   "cell_type": "code",
   "execution_count": 22,
   "metadata": {},
   "outputs": [
    {
     "ename": "ModuleNotFoundError",
     "evalue": "No module named 'jdlajsd'",
     "output_type": "error",
     "traceback": [
      "\u001b[1;31m---------------------------------------------------------------------------\u001b[0m",
      "\u001b[1;31mModuleNotFoundError\u001b[0m                       Traceback (most recent call last)",
      "\u001b[1;32m<ipython-input-22-32eb8064929c>\u001b[0m in \u001b[0;36m<module>\u001b[1;34m()\u001b[0m\n\u001b[1;32m----> 1\u001b[1;33m \u001b[1;32mimport\u001b[0m \u001b[0mjdlajsd\u001b[0m\u001b[1;33m\u001b[0m\u001b[0m\n\u001b[0m",
      "\u001b[1;31mModuleNotFoundError\u001b[0m: No module named 'jdlajsd'"
     ]
    }
   ],
   "source": [
    "import jdlajsd"
   ]
  },
  {
   "cell_type": "code",
   "execution_count": 23,
   "metadata": {},
   "outputs": [
    {
     "name": "stdout",
     "output_type": "stream",
     "text": [
      "Hello\n",
      "Hai\n",
      "i got Zero Division\n",
      "finally can execute in any situation\n"
     ]
    }
   ],
   "source": [
    "try:\n",
    "    print('Hello')\n",
    "    print('Hai')\n",
    "    print(1/0)\n",
    "    print('Bye')\n",
    "except ZeroDivisionError:\n",
    "    print('i got Zero Division')\n",
    "except:\n",
    "    print('i got exception')\n",
    "    print('so that i can execute')    \n",
    "else:\n",
    "    print('i can execute when no more exception')\n",
    "finally:\n",
    "    print('finally can execute in any situation')"
   ]
  },
  {
   "cell_type": "code",
   "execution_count": 28,
   "metadata": {},
   "outputs": [
    {
     "name": "stdout",
     "output_type": "stream",
     "text": [
      "Hello\n",
      "Hai\n",
      "i got Module Not Found Error\n",
      "finally can execute in any situation\n"
     ]
    }
   ],
   "source": [
    "try:\n",
    "    print('Hello')\n",
    "    print('Hai')\n",
    "    #int('soc')\n",
    "    #open('jyothsna','r')\n",
    "    #import fhakl\n",
    "    print('Bye')\n",
    "except ZeroDivisionError:\n",
    "    print('i got Zero Division')\n",
    "except ValueError:\n",
    "    print('i got Value Error')\n",
    "except FileNotFoundError:\n",
    "     print('i got File Error')\n",
    "except ModuleNotFoundError:\n",
    "     print('i got Module Not Found Error')\n",
    "except NameError:\n",
    "     print('i got Name Error')\n",
    "except:\n",
    "    print('i got exception')\n",
    "    print('so that i can execute')    \n",
    "else:\n",
    "    print('i can execute when no more exception')\n",
    "finally:\n",
    "    print('finally can execute in any situation')"
   ]
  }
 ],
 "metadata": {
  "kernelspec": {
   "display_name": "Python 3",
   "language": "python",
   "name": "python3"
  },
  "language_info": {
   "codemirror_mode": {
    "name": "ipython",
    "version": 3
   },
   "file_extension": ".py",
   "mimetype": "text/x-python",
   "name": "python",
   "nbconvert_exporter": "python",
   "pygments_lexer": "ipython3",
   "version": "3.7.0"
  }
 },
 "nbformat": 4,
 "nbformat_minor": 2
}
