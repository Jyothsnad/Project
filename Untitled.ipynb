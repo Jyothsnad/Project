{
 "cells": [
  {
   "cell_type": "code",
   "execution_count": 173,
   "metadata": {},
   "outputs": [
    {
     "name": "stdout",
     "output_type": "stream",
     "text": [
      "Spider Man\n",
      "Iron Man\n",
      "Captain America\n",
      "Black Widow\n",
      "The Hulk\n",
      "Hawkeye\n",
      "Thor\n",
      "Falcon\n",
      "Black Panther\n"
     ]
    }
   ],
   "source": [
    "avengers = ['Spider Man','Iron Man','Captain America','Black Widow','The Hulk',\n",
    "            'Hawkeye','Thor', 'Falcon','Black Panther']\n",
    "\n",
    "for x in avengers:\n",
    "    print (x)"
   ]
  },
  {
   "cell_type": "code",
   "execution_count": 174,
   "metadata": {},
   "outputs": [
    {
     "name": "stdout",
     "output_type": "stream",
     "text": [
      "attacks\n",
      "smashes\n",
      "kills\n",
      "destory\n",
      "beats\n",
      "hits\n"
     ]
    }
   ],
   "source": [
    "actions = ['attacks','smashes','kills','destory','beats','hits']\n",
    "\n",
    "for y in actions:\n",
    "    print(y)"
   ]
  },
  {
   "cell_type": "code",
   "execution_count": 175,
   "metadata": {},
   "outputs": [
    {
     "name": "stdout",
     "output_type": "stream",
     "text": [
      "Enter villains name nani \n",
      "Enter villains name hari\n",
      "Enter villains name kiran\n",
      "Enter villains name arun\n",
      "Enter villains name arjun\n"
     ]
    }
   ],
   "source": [
    "villains = []\n",
    "\n",
    "for i in range(0,5):\n",
    "    name = input(\"Enter villains name \")\n",
    "    villains.append(name)"
   ]
  },
  {
   "cell_type": "code",
   "execution_count": 176,
   "metadata": {},
   "outputs": [
    {
     "name": "stdout",
     "output_type": "stream",
     "text": [
      "Black Panther attacks arun\n",
      "Black Panther beats hari\n",
      "Black Panther attacks nani \n",
      "Spider Man smashes kiran\n",
      "Falcon attacks arjun\n",
      "Avengers are won\n"
     ]
    }
   ],
   "source": [
    "import random\n",
    "random.shuffle(avengers)\n",
    "random.shuffle(villains)\n",
    "for aven_list in avengers:\n",
    "    index1 = avengers.index(aven_list)\n",
    "    for vil_list in villains: \n",
    "        index2 = villains.index(vil_list)\n",
    "        action_verb = random.choice(actions)\n",
    "        print(aven_list + ' ' + action_verb + ' ' + vil_list)\n",
    "        del avengers[index1]\n",
    "        del villains[index2]\n",
    "if len(avengers) != 0:\n",
    "    print('Avengers are won')\n",
    "if len(villains) != 0:\n",
    "    print('Villains are won')"
   ]
  }
 ],
 "metadata": {
  "kernelspec": {
   "display_name": "Python 3",
   "language": "python",
   "name": "python3"
  },
  "language_info": {
   "codemirror_mode": {
    "name": "ipython",
    "version": 3
   },
   "file_extension": ".py",
   "mimetype": "text/x-python",
   "name": "python",
   "nbconvert_exporter": "python",
   "pygments_lexer": "ipython3",
   "version": "3.7.0"
  }
 },
 "nbformat": 4,
 "nbformat_minor": 2
}
