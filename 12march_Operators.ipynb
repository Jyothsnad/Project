{
 "cells": [
  {
   "cell_type": "markdown",
   "metadata": {},
   "source": [
    "Unary Operators"
   ]
  },
  {
   "cell_type": "code",
   "execution_count": 1,
   "metadata": {},
   "outputs": [
    {
     "data": {
      "text/plain": [
       "12"
      ]
     },
     "execution_count": 1,
     "metadata": {},
     "output_type": "execute_result"
    }
   ],
   "source": [
    "# unary plus\n",
    "\n",
    "+ 12"
   ]
  },
  {
   "cell_type": "code",
   "execution_count": 2,
   "metadata": {},
   "outputs": [
    {
     "data": {
      "text/plain": [
       "-12"
      ]
     },
     "execution_count": 2,
     "metadata": {},
     "output_type": "execute_result"
    }
   ],
   "source": [
    "# unary minus\n",
    "\n",
    "- 12"
   ]
  },
  {
   "cell_type": "code",
   "execution_count": 3,
   "metadata": {},
   "outputs": [
    {
     "data": {
      "text/plain": [
       "False"
      ]
     },
     "execution_count": 3,
     "metadata": {},
     "output_type": "execute_result"
    }
   ],
   "source": [
    "# logical not\n",
    "\n",
    "not 12"
   ]
  },
  {
   "cell_type": "code",
   "execution_count": null,
   "metadata": {},
   "outputs": [],
   "source": [
    "# Negotion\n",
    "\n",
    "~ 12"
   ]
  },
  {
   "cell_type": "markdown",
   "metadata": {},
   "source": [
    "Binary Operators\n",
    "\n",
    "+ , - , *,  /"
   ]
  },
  {
   "cell_type": "markdown",
   "metadata": {},
   "source": [
    "Arithemetic Operators"
   ]
  },
  {
   "cell_type": "code",
   "execution_count": 6,
   "metadata": {},
   "outputs": [],
   "source": [
    "a = 18\n",
    "b = 10"
   ]
  },
  {
   "cell_type": "code",
   "execution_count": 10,
   "metadata": {},
   "outputs": [
    {
     "name": "stdout",
     "output_type": "stream",
     "text": [
      "28\n",
      "8\n",
      "180\n",
      "1.8\n",
      "8\n"
     ]
    }
   ],
   "source": [
    "print(a+b)\n",
    "\n",
    "print(a-b)\n",
    "\n",
    "print(a*b)\n",
    "\n",
    "print(a/b)\n",
    "\n",
    "print(a%b)"
   ]
  },
  {
   "cell_type": "code",
   "execution_count": 11,
   "metadata": {},
   "outputs": [
    {
     "name": "stdout",
     "output_type": "stream",
     "text": [
      "1.8\n",
      "1\n"
     ]
    }
   ],
   "source": [
    "# Floor division\n",
    "\n",
    "print(a/b)\n",
    "\n",
    "print(a//b)"
   ]
  },
  {
   "cell_type": "code",
   "execution_count": 12,
   "metadata": {},
   "outputs": [
    {
     "data": {
      "text/plain": [
       "32"
      ]
     },
     "execution_count": 12,
     "metadata": {},
     "output_type": "execute_result"
    }
   ],
   "source": [
    "# Power\n",
    "\n",
    "2**5"
   ]
  },
  {
   "cell_type": "code",
   "execution_count": 14,
   "metadata": {},
   "outputs": [
    {
     "name": "stdout",
     "output_type": "stream",
     "text": [
      "Enter the amount:10000\n",
      "Enter time in months:11\n",
      "Enter the rate of interest2\n",
      "Simple Interest: 183.33333333333331\n",
      "Total amount: 10183.333333333334\n"
     ]
    }
   ],
   "source": [
    "# find the Simple Interset\n",
    "\n",
    "p = int(input('Enter the amount:'))\n",
    "t = int(input('Enter time in months:'))\n",
    "t = t/12\n",
    "r = int(input('Enter the rate of interest'))\n",
    "\n",
    "si = p*t*r/100\n",
    "amount = p+si\n",
    "\n",
    "print('Simple Interest:',si)\n",
    "print('Total amount:',amount)"
   ]
  },
  {
   "cell_type": "code",
   "execution_count": 15,
   "metadata": {},
   "outputs": [
    {
     "name": "stdout",
     "output_type": "stream",
     "text": [
      "Enter the radius of circle in m:9\n",
      "Area of Circle is  254.34 in sq.m\n"
     ]
    }
   ],
   "source": [
    "# find area of Circle\n",
    "\n",
    "r = input('Enter the radius of circle in m:' )\n",
    "r = float(r)\n",
    "\n",
    "area = 3.14*r*r\n",
    "\n",
    "print('Area of Circle is ',area, 'in sq.m')"
   ]
  },
  {
   "cell_type": "code",
   "execution_count": 19,
   "metadata": {},
   "outputs": [
    {
     "name": "stdout",
     "output_type": "stream",
     "text": [
      "Enter the distance in km: 5\n",
      "5 km =  5000 m\n"
     ]
    }
   ],
   "source": [
    "# convert km into m\n",
    "\n",
    "dis = input('Enter the distance in km: ')\n",
    "dis = int(dis)\n",
    "\n",
    "dis_m = dis*1000\n",
    "\n",
    "print(dis ,'km = ',dis_m ,'m')"
   ]
  },
  {
   "cell_type": "code",
   "execution_count": 23,
   "metadata": {},
   "outputs": [
    {
     "name": "stdout",
     "output_type": "stream",
     "text": [
      "Enter the temperature in °F: 5\n",
      "5 °F =  -15.0 °C\n"
     ]
    }
   ],
   "source": [
    "# convert farenheit to celcius\n",
    "\n",
    "\n",
    "# find Area and Perimeter of rectangle\n",
    "\n",
    "f = int(input('Enter the temperature in °F: '))\n",
    "\n",
    "c = (f-32)*5/9\n",
    "\n",
    "print(f ,'°F = ',c ,'°C')"
   ]
  },
  {
   "cell_type": "code",
   "execution_count": 24,
   "metadata": {},
   "outputs": [
    {
     "name": "stdout",
     "output_type": "stream",
     "text": [
      "Enter the radius of circle in m:9\n",
      "Area of Circle is  254.34 in sq.m\n",
      "Perimeter of Circle is  56.52 in m\n"
     ]
    }
   ],
   "source": [
    "# find Area and Perimeter of circle\n",
    "\n",
    "r = input('Enter the radius of circle in m:' )\n",
    "r = float(r)\n",
    "\n",
    "area = 3.14*r*r\n",
    "perimeter = 2*3.14*r\n",
    "\n",
    "print('Area of Circle is ',area, 'in sq.m')\n",
    "print('Perimeter of Circle is ',perimeter, 'in m')"
   ]
  },
  {
   "cell_type": "code",
   "execution_count": 30,
   "metadata": {},
   "outputs": [
    {
     "name": "stdout",
     "output_type": "stream",
     "text": [
      "Enter the side of Square in m:5\n",
      "Area of Square is  25 in sq.m\n",
      "Perimeter of Square is  20 in m\n"
     ]
    }
   ],
   "source": [
    "# find Area and Perimeter of square\n",
    "a = input('Enter the side of Square in m:' )\n",
    "a = int(a)\n",
    "\n",
    "area = a*a\n",
    "perimeter = 4*a\n",
    "\n",
    "print('Area of Square is ',area, 'in sq.m')\n",
    "print('Perimeter of Square is ',perimeter, 'in m')\n"
   ]
  },
  {
   "cell_type": "code",
   "execution_count": 33,
   "metadata": {},
   "outputs": [
    {
     "name": "stdout",
     "output_type": "stream",
     "text": [
      "Enter the length of Rectangle in m:5\n",
      "Enter the bredgth of Rectangle in m:5\n",
      "Area of Rectangle is  25 in sq.m\n",
      "Perimeter of Rectangle is  20 in m\n"
     ]
    }
   ],
   "source": [
    "# find Area and Perimeter of rectangle\n",
    "l = int(input('Enter the length of Rectangle in m:' ))\n",
    "b = int(input('Enter the bredgth of Rectangle in m:' ))\n",
    "\n",
    "area = l*b\n",
    "perimeter = 2*(l+b)\n",
    "\n",
    "print('Area of Rectangle is ',area, 'in sq.m')\n",
    "print('Perimeter of Rectangle is ',perimeter, 'in m')"
   ]
  }
 ],
 "metadata": {
  "kernelspec": {
   "display_name": "Python 3",
   "language": "python",
   "name": "python3"
  },
  "language_info": {
   "codemirror_mode": {
    "name": "ipython",
    "version": 3
   },
   "file_extension": ".py",
   "mimetype": "text/x-python",
   "name": "python",
   "nbconvert_exporter": "python",
   "pygments_lexer": "ipython3",
   "version": "3.7.0"
  }
 },
 "nbformat": 4,
 "nbformat_minor": 2
}
