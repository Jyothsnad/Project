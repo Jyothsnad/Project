{
 "cells": [
  {
   "cell_type": "markdown",
   "metadata": {},
   "source": [
    "Strings\n",
    "-----------\n",
    "1. A group of characters we can store in one memory location\n",
    "2. We can store with in single quote ' ' / double quote \" \" / Triple quote ''' ''' / double triple quote \"\"\" \"\"\"\n",
    "3. We can't able to modify previous data with in the string\n",
    "4. We can access the individual cahracters from your string using Indexing\n",
    "5. We can access group of characters continously from your string using Slicing\n",
    "6. We can able to access the Periodical characters"
   ]
  },
  {
   "cell_type": "code",
   "execution_count": 1,
   "metadata": {},
   "outputs": [
    {
     "name": "stdout",
     "output_type": "stream",
     "text": [
      "Python\n",
      "<class 'str'>\n",
      "1720408675808\n"
     ]
    }
   ],
   "source": [
    "v = 'Python'\n",
    "print(v)\n",
    "print(type(v))    # Type() --> Data type of Variable\n",
    "print(id(v))      # id()   --> memory location"
   ]
  },
  {
   "cell_type": "code",
   "execution_count": 2,
   "metadata": {},
   "outputs": [
    {
     "name": "stdout",
     "output_type": "stream",
     "text": [
      "Python\n",
      "<class 'str'>\n",
      "1720408675808\n"
     ]
    }
   ],
   "source": [
    "v = \"Python\"\n",
    "print(v)\n",
    "print(type(v))    \n",
    "print(id(v)) "
   ]
  },
  {
   "cell_type": "code",
   "execution_count": 3,
   "metadata": {},
   "outputs": [
    {
     "name": "stdout",
     "output_type": "stream",
     "text": [
      "Python\n",
      "<class 'str'>\n",
      "1720408675808\n"
     ]
    }
   ],
   "source": [
    "v = '''Python'''\n",
    "print(v)\n",
    "print(type(v))   \n",
    "print(id(v)) "
   ]
  },
  {
   "cell_type": "code",
   "execution_count": 4,
   "metadata": {},
   "outputs": [
    {
     "name": "stdout",
     "output_type": "stream",
     "text": [
      "Python\n",
      "<class 'str'>\n",
      "1720408675808\n"
     ]
    }
   ],
   "source": [
    "v = \"\"\"Python\"\"\"\n",
    "print(v)\n",
    "print(type(v))    # Type() --> Data type of Variable\n",
    "print(id(v)) "
   ]
  },
  {
   "cell_type": "code",
   "execution_count": 14,
   "metadata": {},
   "outputs": [
    {
     "name": "stdout",
     "output_type": "stream",
     "text": [
      "P\n",
      "y\n",
      "23\n",
      "e\n",
      "e\n",
      "g\n",
      "P\n"
     ]
    }
   ],
   "source": [
    "# We can access the individual cahracters from your string using Indexing\n",
    "# Indexing\n",
    "# Positive index   --->  0 to length-1\n",
    "# Negative index   ---> -1 to -length\n",
    "\n",
    "s = 'Pyhton program language'\n",
    "\n",
    "print(s[0])\n",
    "print(s[1])\n",
    "print(len(s))\n",
    "print(s[22])\n",
    "\n",
    "print(s[-1])\n",
    "print(s[-2])\n",
    "print(s[-23])\n"
   ]
  },
  {
   "cell_type": "code",
   "execution_count": 16,
   "metadata": {},
   "outputs": [
    {
     "name": "stdout",
     "output_type": "stream",
     "text": [
      "Pyhton program language\n"
     ]
    },
    {
     "ename": "TypeError",
     "evalue": "'str' object does not support item assignment",
     "output_type": "error",
     "traceback": [
      "\u001b[1;31m---------------------------------------------------------------------------\u001b[0m",
      "\u001b[1;31mTypeError\u001b[0m                                 Traceback (most recent call last)",
      "\u001b[1;32m<ipython-input-16-bc707ea992e2>\u001b[0m in \u001b[0;36m<module>\u001b[1;34m()\u001b[0m\n\u001b[0;32m      3\u001b[0m \u001b[1;33m\u001b[0m\u001b[0m\n\u001b[0;32m      4\u001b[0m \u001b[0mprint\u001b[0m\u001b[1;33m(\u001b[0m\u001b[0ms\u001b[0m\u001b[1;33m)\u001b[0m\u001b[1;33m\u001b[0m\u001b[0m\n\u001b[1;32m----> 5\u001b[1;33m \u001b[0ms\u001b[0m\u001b[1;33m[\u001b[0m\u001b[1;36m10\u001b[0m\u001b[1;33m]\u001b[0m \u001b[1;33m=\u001b[0m \u001b[1;34m'G'\u001b[0m\u001b[1;33m\u001b[0m\u001b[0m\n\u001b[0m\u001b[0;32m      6\u001b[0m \u001b[0mprint\u001b[0m\u001b[1;33m(\u001b[0m\u001b[0ms\u001b[0m\u001b[1;33m)\u001b[0m\u001b[1;33m\u001b[0m\u001b[0m\n",
      "\u001b[1;31mTypeError\u001b[0m: 'str' object does not support item assignment"
     ]
    }
   ],
   "source": [
    "# We can't able to modify previous data with in the string\n",
    "# Immutable\n",
    "\n",
    "print(s)\n",
    "s[10] = 'G'\n",
    "print(s)"
   ]
  },
  {
   "cell_type": "code",
   "execution_count": 21,
   "metadata": {},
   "outputs": [
    {
     "name": "stdout",
     "output_type": "stream",
     "text": [
      "Pyhton program language\n",
      "program\n",
      "Pyhton program\n",
      "program language\n"
     ]
    }
   ],
   "source": [
    "# We can access group of characters continously from your string using Slicing\n",
    "# Slicing\n",
    "# var[start:stop]  --> default value of start is '0' and stop is 'length'\n",
    "\n",
    "print(s)\n",
    "\n",
    "print(s[7:14])\n",
    "\n",
    "print(s[:14])\n",
    "\n",
    "print(s[7:])"
   ]
  },
  {
   "cell_type": "code",
   "execution_count": 28,
   "metadata": {},
   "outputs": [
    {
     "name": "stdout",
     "output_type": "stream",
     "text": [
      "Pyhton program language\n",
      "Pho rga agae\n",
      "Pt oalgg\n"
     ]
    }
   ],
   "source": [
    "# We can able to access the Periodical characters\n",
    "# Dicing\n",
    "# var[start:stop:step]   --> default value of step is '1'\n",
    "\n",
    "print(s)\n",
    "\n",
    "print(s[0:23:2])  \n",
    "\n",
    "print(s[:23:3])"
   ]
  }
 ],
 "metadata": {
  "kernelspec": {
   "display_name": "Python 3",
   "language": "python",
   "name": "python3"
  },
  "language_info": {
   "codemirror_mode": {
    "name": "ipython",
    "version": 3
   },
   "file_extension": ".py",
   "mimetype": "text/x-python",
   "name": "python",
   "nbconvert_exporter": "python",
   "pygments_lexer": "ipython3",
   "version": "3.7.0"
  }
 },
 "nbformat": 4,
 "nbformat_minor": 2
}
