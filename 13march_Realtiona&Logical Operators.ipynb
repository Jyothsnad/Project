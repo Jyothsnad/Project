{
 "cells": [
  {
   "cell_type": "markdown",
   "metadata": {},
   "source": [
    "Relational Operators"
   ]
  },
  {
   "cell_type": "code",
   "execution_count": 2,
   "metadata": {},
   "outputs": [
    {
     "name": "stdout",
     "output_type": "stream",
     "text": [
      "Enter a value: 10\n",
      "Enter b value: 20\n",
      "True\n",
      "False\n",
      "False\n",
      "True\n",
      "True\n",
      "False\n"
     ]
    }
   ],
   "source": [
    "a = input('Enter a value: ')\n",
    "b = input('Enter b value: ')\n",
    "\n",
    "print(a<b)\n",
    "\n",
    "print(a>b)\n",
    "\n",
    "print(a==b)\n",
    "\n",
    "print(a!=b)\n",
    "\n",
    "print(a<=b)\n",
    "\n",
    "print(a>=b)"
   ]
  },
  {
   "cell_type": "code",
   "execution_count": 3,
   "metadata": {},
   "outputs": [
    {
     "name": "stdout",
     "output_type": "stream",
     "text": [
      "Enter a value: 10\n",
      "Enter b value: 10\n",
      "False\n",
      "False\n",
      "True\n",
      "False\n",
      "True\n",
      "True\n"
     ]
    }
   ],
   "source": [
    "a = input('Enter a value: ')\n",
    "b = input('Enter b value: ')\n",
    "\n",
    "print(a<b)\n",
    "\n",
    "print(a>b)\n",
    "\n",
    "print(a==b)\n",
    "\n",
    "print(a!=b)\n",
    "\n",
    "print(a<=b)\n",
    "\n",
    "print(a>=b)"
   ]
  },
  {
   "cell_type": "code",
   "execution_count": 4,
   "metadata": {},
   "outputs": [
    {
     "name": "stdout",
     "output_type": "stream",
     "text": [
      "Enter a value: 20\n",
      "Enter b value: 10\n",
      "False\n",
      "True\n",
      "False\n",
      "True\n",
      "False\n",
      "True\n"
     ]
    }
   ],
   "source": [
    "a = input('Enter a value: ')\n",
    "b = input('Enter b value: ')\n",
    "\n",
    "print(a<b)\n",
    "\n",
    "print(a>b)\n",
    "\n",
    "print(a==b)\n",
    "\n",
    "print(a!=b)\n",
    "\n",
    "print(a<=b)\n",
    "\n",
    "print(a>=b)"
   ]
  },
  {
   "cell_type": "markdown",
   "metadata": {},
   "source": [
    "Logical Operators"
   ]
  },
  {
   "cell_type": "code",
   "execution_count": 8,
   "metadata": {},
   "outputs": [
    {
     "name": "stdout",
     "output_type": "stream",
     "text": [
      "False\n",
      "True\n",
      "True\n",
      "True\n",
      "True\n",
      "True\n"
     ]
    }
   ],
   "source": [
    "# logical not\n",
    "\n",
    "print(not 90)\n",
    "\n",
    "print(not {})\n",
    "\n",
    "print(not [])\n",
    "\n",
    "print(not ())\n",
    "\n",
    "print(not None)\n",
    "\n",
    "print(not 0+0j)"
   ]
  },
  {
   "cell_type": "code",
   "execution_count": 14,
   "metadata": {},
   "outputs": [
    {
     "name": "stdout",
     "output_type": "stream",
     "text": [
      "78\n",
      "{}\n",
      "{}\n"
     ]
    }
   ],
   "source": [
    "# logical and\n",
    "\n",
    "# 1st input is False --->  output is 1st input\n",
    "\n",
    "# 1st input is True  ---> output is 2nd input\n",
    "\n",
    "print(23 and 78)\n",
    "\n",
    "print({} and 78)\n",
    "\n",
    "print(78 and {})"
   ]
  },
  {
   "cell_type": "code",
   "execution_count": 13,
   "metadata": {},
   "outputs": [
    {
     "name": "stdout",
     "output_type": "stream",
     "text": [
      "23\n",
      "78\n",
      "78\n"
     ]
    }
   ],
   "source": [
    "# logical or\n",
    "\n",
    "# 1st input is False --->  output is 2nd input\n",
    "\n",
    "# 1st input is True  ---> output is 1st input\n",
    "\n",
    "print(23 or 78)\n",
    "\n",
    "print({} or 78)\n",
    "\n",
    "print(78 or {})"
   ]
  }
 ],
 "metadata": {
  "kernelspec": {
   "display_name": "Python 3",
   "language": "python",
   "name": "python3"
  },
  "language_info": {
   "codemirror_mode": {
    "name": "ipython",
    "version": 3
   },
   "file_extension": ".py",
   "mimetype": "text/x-python",
   "name": "python",
   "nbconvert_exporter": "python",
   "pygments_lexer": "ipython3",
   "version": "3.7.0"
  }
 },
 "nbformat": 4,
 "nbformat_minor": 2
}
