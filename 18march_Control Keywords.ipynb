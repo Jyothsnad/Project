{
 "cells": [
  {
   "cell_type": "code",
   "execution_count": 1,
   "metadata": {},
   "outputs": [],
   "source": [
    "# Pass   ---> we can pass the block\n",
    "\n",
    "if(True):\n",
    "    pass\n",
    "else:\n",
    "    pass   "
   ]
  },
  {
   "cell_type": "code",
   "execution_count": 2,
   "metadata": {},
   "outputs": [],
   "source": [
    "for i in range(10):\n",
    "    pass\n",
    "while(False):\n",
    "    pass"
   ]
  },
  {
   "cell_type": "code",
   "execution_count": 3,
   "metadata": {},
   "outputs": [
    {
     "name": "stdout",
     "output_type": "stream",
     "text": [
      "Hello\n"
     ]
    }
   ],
   "source": [
    "# break   ---? to terminate the block\n",
    "\n",
    "while(True):\n",
    "    print('Hello')\n",
    "    break"
   ]
  },
  {
   "cell_type": "code",
   "execution_count": 4,
   "metadata": {},
   "outputs": [
    {
     "name": "stdout",
     "output_type": "stream",
     "text": [
      "hello\n"
     ]
    }
   ],
   "source": [
    "# continue    ---> skip the current execution and continue the next execution\n",
    "\n",
    "while(False):\n",
    "    print('Hai')\n",
    "    continue\n",
    "print('hello')"
   ]
  },
  {
   "cell_type": "code",
   "execution_count": 5,
   "metadata": {},
   "outputs": [
    {
     "name": "stdout",
     "output_type": "stream",
     "text": [
      "Hello\n"
     ]
    }
   ],
   "source": [
    "# To generate the Delay after print Hello\n",
    "\n",
    "for i in range(10000000):\n",
    "    pass\n",
    "print('Hello')"
   ]
  },
  {
   "cell_type": "code",
   "execution_count": 6,
   "metadata": {},
   "outputs": [
    {
     "name": "stdout",
     "output_type": "stream",
     "text": [
      "i =  1\n",
      "i =  2\n",
      "i =  3\n",
      "i =  4\n",
      "i =  5\n",
      "i =  6\n",
      "i =  7\n",
      "i =  8\n",
      "i =  9\n",
      "i =  10\n",
      "i =  11\n",
      "i =  12\n",
      "i =  13\n",
      "i =  14\n",
      "i =  15\n",
      "i =  16\n",
      "i =  17\n",
      "i =  18\n",
      "i =  19\n",
      "i =  20\n",
      "i =  21\n",
      "i =  22\n",
      "i =  23\n",
      "i =  24\n",
      "i =  25\n",
      "i =  26\n",
      "i =  27\n",
      "i =  28\n",
      "i =  29\n",
      "i =  30\n",
      "i =  31\n",
      "i =  32\n",
      "i =  33\n",
      "i =  34\n",
      "i =  35\n",
      "i =  36\n",
      "i =  37\n",
      "i =  38\n",
      "i =  39\n",
      "i =  40\n",
      "i =  41\n",
      "i =  42\n",
      "i =  43\n",
      "i =  44\n",
      "i =  45\n",
      "i =  46\n",
      "i =  47\n",
      "i =  48\n",
      "i =  49\n",
      "i =  50\n",
      "i =  51\n",
      "i =  52\n",
      "i =  53\n",
      "i =  54\n"
     ]
    }
   ],
   "source": [
    "# print 1 to 100 but stop at 55\n",
    "\n",
    "i = 1\n",
    "while(i<=100):\n",
    "    if (i == 55):\n",
    "        break\n",
    "    print('i = ',i)\n",
    "    i = i+1"
   ]
  },
  {
   "cell_type": "code",
   "execution_count": 7,
   "metadata": {},
   "outputs": [
    {
     "name": "stdout",
     "output_type": "stream",
     "text": [
      "Enter Number : 5\n",
      "given number is prime\n"
     ]
    }
   ],
   "source": [
    "# find the given number is prime or not\n",
    "\n",
    "i = 2\n",
    "n = int(input('Enter Number : '))\n",
    "while(i<n):\n",
    "    if (n%i==0):\n",
    "        print(\"it's not a prime number\")\n",
    "        break\n",
    "    i+=1\n",
    "else:\n",
    "    print('given number is prime')"
   ]
  },
  {
   "cell_type": "code",
   "execution_count": 8,
   "metadata": {},
   "outputs": [
    {
     "name": "stdout",
     "output_type": "stream",
     "text": [
      "Enter Number : 10\n",
      "it's not a prime number\n"
     ]
    }
   ],
   "source": [
    "# find the given number is prime or not\n",
    "\n",
    "i = 2\n",
    "n = int(input('Enter Number : '))\n",
    "while(i<n):\n",
    "    if (n%i==0):\n",
    "        print(\"it's not a prime number\")\n",
    "        break\n",
    "    i+=1\n",
    "else:\n",
    "    print('given number is prime')"
   ]
  },
  {
   "cell_type": "code",
   "execution_count": 9,
   "metadata": {},
   "outputs": [
    {
     "name": "stdout",
     "output_type": "stream",
     "text": [
      "Enter maximum element : 100\n",
      "ele =  2\n",
      "ele =  4\n",
      "ele =  6\n",
      "ele =  8\n",
      "ele =  10\n",
      "ele =  12\n",
      "ele =  14\n",
      "ele =  16\n",
      "ele =  18\n",
      "ele =  20\n",
      "ele =  22\n",
      "ele =  24\n",
      "ele =  26\n",
      "ele =  28\n",
      "ele =  30\n",
      "ele =  32\n",
      "ele =  34\n",
      "ele =  36\n",
      "ele =  38\n",
      "ele =  40\n",
      "ele =  42\n",
      "ele =  44\n",
      "ele =  46\n",
      "ele =  48\n",
      "ele =  50\n",
      "ele =  52\n",
      "ele =  54\n",
      "ele =  56\n",
      "ele =  58\n",
      "ele =  60\n",
      "ele =  62\n",
      "ele =  64\n",
      "ele =  66\n",
      "ele =  68\n",
      "ele =  70\n",
      "ele =  72\n",
      "ele =  74\n",
      "ele =  76\n",
      "ele =  78\n",
      "ele =  80\n",
      "ele =  82\n",
      "ele =  84\n",
      "ele =  86\n",
      "ele =  88\n",
      "ele =  90\n",
      "ele =  92\n",
      "ele =  94\n",
      "ele =  96\n",
      "ele =  98\n",
      "ele =  100\n"
     ]
    }
   ],
   "source": [
    "# print even numbers from 1 to 100\n",
    "\n",
    "n = int(input('Enter maximum element : '))\n",
    "for ele in range(1,n+1):\n",
    "    if (ele%2 != 0):\n",
    "        continue\n",
    "    print('ele = ',ele)\n",
    "    "
   ]
  },
  {
   "cell_type": "code",
   "execution_count": null,
   "metadata": {},
   "outputs": [],
   "source": [
    "# print prime numbers in between 1 to 100\n",
    "\n",
    "n = int(input('Enter Number : '))\n",
    "for i in range(2,n):\n",
    "    if (n%i==0):\n",
    "        break\n",
    "        i+=1\n",
    "    else:\n",
    "        print(i)\n"
   ]
  }
 ],
 "metadata": {
  "kernelspec": {
   "display_name": "Python 3",
   "language": "python",
   "name": "python3"
  },
  "language_info": {
   "codemirror_mode": {
    "name": "ipython",
    "version": 3
   },
   "file_extension": ".py",
   "mimetype": "text/x-python",
   "name": "python",
   "nbconvert_exporter": "python",
   "pygments_lexer": "ipython3",
   "version": "3.7.0"
  }
 },
 "nbformat": 4,
 "nbformat_minor": 2
}
