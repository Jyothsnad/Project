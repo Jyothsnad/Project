{
 "cells": [
  {
   "cell_type": "code",
   "execution_count": 2,
   "metadata": {},
   "outputs": [],
   "source": [
    "from tkinter import *"
   ]
  },
  {
   "cell_type": "code",
   "execution_count": 19,
   "metadata": {},
   "outputs": [],
   "source": [
    "root = Tk()\n",
    "root.geometry('700x500')\n",
    "root.title('Welcome to Soc Softech')\n",
    "\n",
    "# Label Creation\n",
    "lb = Label(root,text='Python',font=('Times New Roman',20))\n",
    "lb.grid(column=0,row=0)\n",
    "\n",
    "\n",
    "txt = Entry(root,width=30)\n",
    "txt.grid(column=0,row=1)\n",
    "\n",
    "lb1 = Label(root,text='C',font=('Times New Roman',20))\n",
    "lb1.grid(column=1,row=0)\n",
    "\n",
    "# action event when you press the button\n",
    "def event():\n",
    "    lb.configure(text='You selected python PL')\n",
    "\n",
    "# Button creation\n",
    "btn1 = Button(root,text='Python',bg='black',fg='red',command=event)\n",
    "btn1.grid(column=1,row=2)\n",
    "\n",
    "def click():\n",
    "    res = 'enter data :'+txt.get()\n",
    "    lb1.configure(text=res)\n",
    "\n",
    "# Button creation\n",
    "btn2 = Button(root,text='C',bg='black',fg='red',command=click)\n",
    "btn2.grid(column=1,row=3)\n",
    "\n",
    "\n",
    "\n",
    "root.mainloop()"
   ]
  }
 ],
 "metadata": {
  "kernelspec": {
   "display_name": "Python 3",
   "language": "python",
   "name": "python3"
  },
  "language_info": {
   "codemirror_mode": {
    "name": "ipython",
    "version": 3
   },
   "file_extension": ".py",
   "mimetype": "text/x-python",
   "name": "python",
   "nbconvert_exporter": "python",
   "pygments_lexer": "ipython3",
   "version": "3.7.0"
  }
 },
 "nbformat": 4,
 "nbformat_minor": 2
}
