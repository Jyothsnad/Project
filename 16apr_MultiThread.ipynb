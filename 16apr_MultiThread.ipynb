{
 "cells": [
  {
   "cell_type": "code",
   "execution_count": 12,
   "metadata": {},
   "outputs": [],
   "source": [
    "import threading\n",
    "from time import time,sleep"
   ]
  },
  {
   "cell_type": "code",
   "execution_count": 3,
   "metadata": {},
   "outputs": [
    {
     "name": "stdout",
     "output_type": "stream",
     "text": [
      "1555425254.882552\n",
      "arg =  anjan\n",
      "arg =  anjan\n",
      "arg =  anjan\n",
      "arg =  anjan\n",
      "arg =  anjan\n",
      "arg =  anjan\n",
      "arg =  anjan\n",
      "arg =  anjan\n",
      "arg =  anjan\n",
      "arg =  anjan\n",
      "end time :  1555425265.0193415\n"
     ]
    }
   ],
   "source": [
    "print(time())\n",
    "def fun(arg = 'anjan'):\n",
    "    for i in range(10):\n",
    "        print('arg = ',arg)\n",
    "        sleep(1)\n",
    "fun()\n",
    "print('end time : ',time())"
   ]
  },
  {
   "cell_type": "code",
   "execution_count": 6,
   "metadata": {},
   "outputs": [
    {
     "name": "stdout",
     "output_type": "stream",
     "text": [
      "1555425563.728814\n",
      "arg =  soc\n",
      "arg =  soc\n",
      "arg =  soc\n",
      "arg =  soc\n",
      "arg =  soc\n",
      "arg =  soc\n",
      "arg =  soc\n",
      "arg =  soc\n",
      "arg =  soc\n",
      "arg =  soc\n",
      "end time :  1555425573.8968768\n"
     ]
    }
   ],
   "source": [
    "print(time())\n",
    "def fun(arg = 'anjan'):\n",
    "    for i in range(10):\n",
    "        print('arg = ',arg)\n",
    "        sleep(1)\n",
    "t1 = threading.Thread(target=fun,args=('soc',))\n",
    "t1.start()\n",
    "t1.join()\n",
    "print('end time : ',time())"
   ]
  },
  {
   "cell_type": "code",
   "execution_count": 9,
   "metadata": {},
   "outputs": [],
   "source": [
    "class Mythread(threading.Thread):\n",
    "    def __init__(self,target,args):\n",
    "        self.target = target\n",
    "        self.args = args\n",
    "    def start(self):\n",
    "        self.target(self.args)"
   ]
  },
  {
   "cell_type": "code",
   "execution_count": 10,
   "metadata": {},
   "outputs": [
    {
     "name": "stdout",
     "output_type": "stream",
     "text": [
      "1555425915.8945012\n",
      "arg =  ('soc',)\n",
      "arg =  ('soc',)\n",
      "arg =  ('soc',)\n",
      "arg =  ('soc',)\n",
      "arg =  ('soc',)\n",
      "arg =  ('soc',)\n",
      "arg =  ('soc',)\n",
      "arg =  ('soc',)\n",
      "arg =  ('soc',)\n",
      "arg =  ('soc',)\n",
      "end time :  1555425925.9911602\n"
     ]
    }
   ],
   "source": [
    "print(time())\n",
    "def fun(arg = 'anjan'):\n",
    "    for i in range(10):\n",
    "        print('arg = ',arg)\n",
    "        sleep(1)\n",
    "t1 = Mythread(target=fun,args=('soc',))\n",
    "t1.start()\n",
    "print('end time : ',time())"
   ]
  },
  {
   "cell_type": "code",
   "execution_count": 11,
   "metadata": {},
   "outputs": [
    {
     "name": "stdout",
     "output_type": "stream",
     "text": [
      "1555426003.2384183\n",
      "arg =  soc\n",
      "arg =  soc\n",
      "arg =  soc\n",
      "arg =  soc\n",
      "arg =  soc\n",
      "arg =  soc\n",
      "arg =  soc\n",
      "arg =  soc\n",
      "arg =  soc\n",
      "arg =  soc\n",
      "arg =  softech\n",
      "arg =  softech\n",
      "arg =  softech\n",
      "arg =  softech\n",
      "arg =  softech\n",
      "arg =  softech\n",
      "arg =  softech\n",
      "arg =  softech\n",
      "arg =  softech\n",
      "arg =  softech\n",
      "end time :  1555426023.517544\n"
     ]
    }
   ],
   "source": [
    "print(time())\n",
    "def fun(arg = 'anjan'):\n",
    "    for i in range(10):\n",
    "        print('arg = ',arg)\n",
    "        sleep(1)\n",
    "t1 = Mythread(target=fun,args='soc')\n",
    "t1.start()\n",
    "t2 = Mythread(target=fun,args='softech')\n",
    "t2.start()\n",
    "print('end time : ',time())"
   ]
  },
  {
   "cell_type": "code",
   "execution_count": 14,
   "metadata": {},
   "outputs": [
    {
     "name": "stdout",
     "output_type": "stream",
     "text": [
      "1555426190.9635737\n",
      "arg =  soc\n",
      "arg =  soc\n",
      "arg =  soc\n",
      "arg =  soc\n",
      "arg =  soc\n",
      "arg =  soc\n",
      "arg =  soc\n",
      "arg =  soc\n",
      "arg =  soc\n",
      "arg =  soc\n",
      "arg =  123\n",
      "arg =  123\n",
      "arg =  123\n",
      "arg =  123\n",
      "arg =  123\n",
      "arg =  123\n",
      "arg =  123\n",
      "arg =  123\n",
      "arg =  123\n",
      "arg =  123\n",
      "end time :  1555426211.207957\n"
     ]
    }
   ],
   "source": [
    "print(time())\n",
    "def fun(arg = 'anjan'):\n",
    "    for i in range(10):\n",
    "        print('arg = ',arg)\n",
    "        sleep(1)\n",
    "t1 = threading.Thread(target=fun,args=('soc',))\n",
    "t2 = threading.Thread(target=fun,args=('123',))\n",
    "t1.start()\n",
    "t1.join()\n",
    "t2.start()\n",
    "t2.join()\n",
    "print('end time : ',time())"
   ]
  },
  {
   "cell_type": "code",
   "execution_count": 45,
   "metadata": {},
   "outputs": [
    {
     "name": "stdout",
     "output_type": "stream",
     "text": [
      "1555498520.4393933\n",
      "7  is prime :  True\n",
      "end time :  1555498520.4410868\n"
     ]
    }
   ],
   "source": [
    "# implement isprime() thread\n",
    "     \n",
    "from threading import Thread\n",
    "\n",
    "print(time())\n",
    "def isprime(n):\n",
    "    for i in range(2,n):\n",
    "        if (n%i == 0):\n",
    "            return False\n",
    "        return True\n",
    "t1 = Thread(target=isprime,args=(7,))\n",
    "t1.start()\n",
    "print(x,' is prime : ',isprime(x)) \n",
    "print('end time : ',time())"
   ]
  },
  {
   "cell_type": "code",
   "execution_count": null,
   "metadata": {},
   "outputs": [],
   "source": []
  },
  {
   "cell_type": "code",
   "execution_count": 46,
   "metadata": {},
   "outputs": [
    {
     "name": "stdout",
     "output_type": "stream",
     "text": [
      "The factorial of 4 is 24\n"
     ]
    }
   ],
   "source": [
    "# implement factorial() thread\n",
    "\n",
    "def factorial(n):   \n",
    "    if n == 1:\n",
    "        return n\n",
    "    elif n == 0:\n",
    "        return 1\n",
    "    else:\n",
    "        return n*factorial(n-1)  \n",
    "t1 = Thread(target=factorial,args=(2,))\n",
    "t1.start()\n",
    "print(\"The factorial of\",num,\"is\",factorial(num))"
   ]
  }
 ],
 "metadata": {
  "kernelspec": {
   "display_name": "Python 3",
   "language": "python",
   "name": "python3"
  },
  "language_info": {
   "codemirror_mode": {
    "name": "ipython",
    "version": 3
   },
   "file_extension": ".py",
   "mimetype": "text/x-python",
   "name": "python",
   "nbconvert_exporter": "python",
   "pygments_lexer": "ipython3",
   "version": "3.7.0"
  }
 },
 "nbformat": 4,
 "nbformat_minor": 2
}
