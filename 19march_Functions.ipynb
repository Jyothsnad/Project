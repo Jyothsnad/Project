{
 "cells": [
  {
   "cell_type": "code",
   "execution_count": 2,
   "metadata": {},
   "outputs": [
    {
     "name": "stdout",
     "output_type": "stream",
     "text": [
      "c =  167\n"
     ]
    }
   ],
   "source": [
    "# Sum of two Numbers\n",
    "\n",
    "def sum1(a,b):     # Formal Arguments\n",
    "    c = a+b\n",
    "    print('c = ',c)\n",
    "\n",
    "sum1(78,89)        # Actual Arguments"
   ]
  },
  {
   "cell_type": "code",
   "execution_count": 6,
   "metadata": {},
   "outputs": [
    {
     "name": "stdout",
     "output_type": "stream",
     "text": [
      "c =  46\n",
      "c =  44\n"
     ]
    }
   ],
   "source": [
    "# Default Arguments\n",
    "\n",
    "def sum1(a=12,b=34):\n",
    "    c = a+b\n",
    "    print('c = ',c)\n",
    "\n",
    "sum1()\n",
    "sum1(10)"
   ]
  },
  {
   "cell_type": "code",
   "execution_count": 9,
   "metadata": {},
   "outputs": [
    {
     "name": "stdout",
     "output_type": "stream",
     "text": [
      "189\n"
     ]
    }
   ],
   "source": [
    "# return data from fucntion definition to fucntion call\n",
    "\n",
    "def sum1(a,b):\n",
    "    c = a+b\n",
    "    return c\n",
    "\n",
    "v = sum1(89,100)\n",
    "print(v)"
   ]
  },
  {
   "cell_type": "code",
   "execution_count": 11,
   "metadata": {},
   "outputs": [
    {
     "name": "stdout",
     "output_type": "stream",
     "text": [
      "189\n"
     ]
    }
   ],
   "source": [
    "# To terminate the function we can use return\n",
    "\n",
    "def sum1(a,b):\n",
    "    c = a+b\n",
    "    return c\n",
    "    print('Hello')         # this line never execute\n",
    "v = sum1(89,100)\n",
    "print(v)"
   ]
  },
  {
   "cell_type": "code",
   "execution_count": 12,
   "metadata": {},
   "outputs": [
    {
     "name": "stdout",
     "output_type": "stream",
     "text": [
      "10\n",
      "10\n",
      "10\n"
     ]
    }
   ],
   "source": [
    "# Global variable\n",
    "\n",
    "var = 10          # Global Variable\n",
    "def fun():\n",
    "    print(var)\n",
    "print(var)\n",
    "fun()\n",
    "print(var)"
   ]
  },
  {
   "cell_type": "code",
   "execution_count": 13,
   "metadata": {},
   "outputs": [
    {
     "name": "stdout",
     "output_type": "stream",
     "text": [
      "10\n",
      "123\n",
      "10\n"
     ]
    }
   ],
   "source": [
    "# Local variable\n",
    "\n",
    "var = 10          # Global Variable\n",
    "def fun():\n",
    "    var = 123    # Local variable\n",
    "    print(var)\n",
    "print(var)\n",
    "fun()\n",
    "print(var)"
   ]
  },
  {
   "cell_type": "code",
   "execution_count": 14,
   "metadata": {},
   "outputs": [
    {
     "name": "stdout",
     "output_type": "stream",
     "text": [
      "10\n",
      "123\n",
      "123\n"
     ]
    }
   ],
   "source": [
    "# Global variable within fucntion\n",
    "\n",
    "var = 10          # Global Variable\n",
    "def fun():\n",
    "    global var    # Global variable declaration\n",
    "    var = 123     # now it's global variable\n",
    "    print(var)\n",
    "print(var)\n",
    "fun()\n",
    "print(var)"
   ]
  },
  {
   "cell_type": "code",
   "execution_count": 18,
   "metadata": {},
   "outputs": [
    {
     "name": "stdout",
     "output_type": "stream",
     "text": [
      "33\n"
     ]
    }
   ],
   "source": [
    "# Packing\n",
    "\n",
    "def fun(a1,a2,a3,a4,a5,a6,a7):\n",
    "    c = a1+a2+a3+a4+a5+a6+a7\n",
    "    print(c)\n",
    "\n",
    "fun(2,3,5,1,9,8,5)"
   ]
  },
  {
   "cell_type": "code",
   "execution_count": 27,
   "metadata": {},
   "outputs": [
    {
     "ename": "TypeError",
     "evalue": "sum() missing 1 required positional argument: 'b'",
     "output_type": "error",
     "traceback": [
      "\u001b[1;31m---------------------------------------------------------------------------\u001b[0m",
      "\u001b[1;31mTypeError\u001b[0m                                 Traceback (most recent call last)",
      "\u001b[1;32m<ipython-input-27-ddd73cd7f324>\u001b[0m in \u001b[0;36m<module>\u001b[1;34m()\u001b[0m\n\u001b[0;32m      5\u001b[0m     \u001b[0mprint\u001b[0m\u001b[1;33m(\u001b[0m\u001b[0mc\u001b[0m\u001b[1;33m)\u001b[0m\u001b[1;33m\u001b[0m\u001b[0m\n\u001b[0;32m      6\u001b[0m \u001b[1;33m\u001b[0m\u001b[0m\n\u001b[1;32m----> 7\u001b[1;33m \u001b[0mfun\u001b[0m\u001b[1;33m(\u001b[0m\u001b[1;36m2\u001b[0m\u001b[1;33m,\u001b[0m\u001b[1;36m3\u001b[0m\u001b[1;33m,\u001b[0m\u001b[1;36m5\u001b[0m\u001b[1;33m,\u001b[0m\u001b[1;36m1\u001b[0m\u001b[1;33m,\u001b[0m\u001b[1;36m9\u001b[0m\u001b[1;33m,\u001b[0m\u001b[1;36m8\u001b[0m\u001b[1;33m,\u001b[0m\u001b[1;36m5\u001b[0m\u001b[1;33m,\u001b[0m\u001b[1;36m89\u001b[0m\u001b[1;33m,\u001b[0m\u001b[1;36m65\u001b[0m\u001b[1;33m,\u001b[0m\u001b[1;36m34\u001b[0m\u001b[1;33m)\u001b[0m\u001b[1;33m\u001b[0m\u001b[0m\n\u001b[0m",
      "\u001b[1;32m<ipython-input-27-ddd73cd7f324>\u001b[0m in \u001b[0;36mfun\u001b[1;34m(*a)\u001b[0m\n\u001b[0;32m      2\u001b[0m \u001b[1;33m\u001b[0m\u001b[0m\n\u001b[0;32m      3\u001b[0m \u001b[1;32mdef\u001b[0m \u001b[0mfun\u001b[0m\u001b[1;33m(\u001b[0m\u001b[1;33m*\u001b[0m\u001b[0ma\u001b[0m\u001b[1;33m)\u001b[0m\u001b[1;33m:\u001b[0m\u001b[1;33m\u001b[0m\u001b[0m\n\u001b[1;32m----> 4\u001b[1;33m     \u001b[0mc\u001b[0m \u001b[1;33m=\u001b[0m \u001b[0msum\u001b[0m\u001b[1;33m(\u001b[0m\u001b[0ma\u001b[0m\u001b[1;33m)\u001b[0m\u001b[1;33m\u001b[0m\u001b[0m\n\u001b[0m\u001b[0;32m      5\u001b[0m     \u001b[0mprint\u001b[0m\u001b[1;33m(\u001b[0m\u001b[0mc\u001b[0m\u001b[1;33m)\u001b[0m\u001b[1;33m\u001b[0m\u001b[0m\n\u001b[0;32m      6\u001b[0m \u001b[1;33m\u001b[0m\u001b[0m\n",
      "\u001b[1;31mTypeError\u001b[0m: sum() missing 1 required positional argument: 'b'"
     ]
    }
   ],
   "source": [
    "# packing\n",
    "\n",
    "def fun(*a):\n",
    "    c = sum(a)\n",
    "    print(c)\n",
    "\n",
    "fun(2,3,5,1,9,8,5,89,65,34)"
   ]
  },
  {
   "cell_type": "code",
   "execution_count": 28,
   "metadata": {},
   "outputs": [
    {
     "name": "stdout",
     "output_type": "stream",
     "text": [
      "1\n",
      "4\n",
      "3\n",
      "8\n"
     ]
    }
   ],
   "source": [
    "# Unpacking\n",
    "\n",
    "def fun(a1,a2,a3,a4):\n",
    "    print(a1)\n",
    "    print(a2)\n",
    "    print(a3)\n",
    "    print(a4)\n",
    "\n",
    "a = [1,4,3,8]\n",
    "fun(*a)"
   ]
  },
  {
   "cell_type": "code",
   "execution_count": 29,
   "metadata": {},
   "outputs": [
    {
     "name": "stdout",
     "output_type": "stream",
     "text": [
      "I am out fun\n",
      "I am out fun\n",
      "I am in fun\n",
      "I am out fun\n"
     ]
    }
   ],
   "source": [
    "# Nested functions\n",
    "\n",
    "def out_fun():\n",
    "    print('I am out fun')\n",
    "    \n",
    "    def in_fun():\n",
    "        print('I am in fun')\n",
    "    print('I am out fun')\n",
    "    \n",
    "    in_fun()\n",
    "    print('I am out fun')\n",
    "\n",
    "out_fun()\n",
    "    "
   ]
  },
  {
   "cell_type": "code",
   "execution_count": 30,
   "metadata": {},
   "outputs": [
    {
     "name": "stdout",
     "output_type": "stream",
     "text": [
      "hello\n",
      "hello\n",
      "hello\n",
      "hello\n",
      "hello\n",
      "hello\n",
      "hello\n",
      "hello\n",
      "hello\n",
      "hello\n",
      "hai\n",
      "hai\n",
      "hai\n",
      "hai\n",
      "hai\n",
      "hai\n",
      "hai\n",
      "hai\n",
      "hai\n",
      "hai\n"
     ]
    }
   ],
   "source": [
    "# Recursive function   --> A fucntion definition is calls itself\n",
    "\n",
    "def rec_fun(i = 1):\n",
    "    print('hello')\n",
    "    i+=1\n",
    "    if(i <= 10):\n",
    "        rec_fun(i)\n",
    "    print('hai')\n",
    "\n",
    "rec_fun()"
   ]
  },
  {
   "cell_type": "code",
   "execution_count": 37,
   "metadata": {},
   "outputs": [
    {
     "name": "stdout",
     "output_type": "stream",
     "text": [
      "Enter n value : 5\n",
      "5  is prime :  True\n"
     ]
    }
   ],
   "source": [
    "# Write a function isprime\n",
    "\n",
    "def isprime(n):\n",
    "    for i in range(2,n):\n",
    "        if (n%i == 0):\n",
    "            return False\n",
    "    return True\n",
    "x = int(input('Enter n value : '))\n",
    "print(x,' is prime : ',isprime(x))"
   ]
  },
  {
   "cell_type": "code",
   "execution_count": 38,
   "metadata": {},
   "outputs": [
    {
     "name": "stdout",
     "output_type": "stream",
     "text": [
      "Enter n value : 10\n",
      "10  is prime :  False\n"
     ]
    }
   ],
   "source": [
    "# Write a function isprime\n",
    "\n",
    "def isprime(n):\n",
    "    for i in range(2,n):\n",
    "        if (n%i == 0):\n",
    "            return False\n",
    "    return True\n",
    "x = int(input('Enter n value : '))\n",
    "print(x,' is prime : ',isprime(x))"
   ]
  },
  {
   "cell_type": "code",
   "execution_count": 39,
   "metadata": {},
   "outputs": [
    {
     "name": "stdout",
     "output_type": "stream",
     "text": [
      "Enter a : 128\n",
      "Enter b : 10\n",
      "sum =  138\n",
      "mul =  1280\n",
      "div =  12\n",
      "mod =  8\n",
      "sub =  118\n"
     ]
    }
   ],
   "source": [
    "# 5 funtions Add, Sub, Div, Mul, Mod\n",
    "\n",
    "def add(x,y):\n",
    "    return x+y\n",
    "def sub(x,y):\n",
    "    return x-y\n",
    "def div(x,y):\n",
    "    return x//y\n",
    "def mul(x,y):\n",
    "    return x*y\n",
    "def mod(x,y):\n",
    "    return x%y\n",
    "a = int(input('Enter a : '))\n",
    "b = int(input('Enter b : '))\n",
    "print('sum = ',add(a,b))\n",
    "print('mul = ',mul(a,b))\n",
    "print('div = ',div(a,b))\n",
    "print('mod = ',mod(a,b))\n",
    "print('sub = ',sub(a,b))"
   ]
  },
  {
   "cell_type": "code",
   "execution_count": 6,
   "metadata": {},
   "outputs": [
    {
     "name": "stdout",
     "output_type": "stream",
     "text": [
      "Enter n of fibo terms : 10\n",
      "0 , 1 , 1 , 2 , 3 , 5 , 8 , 13 , 21 , 34 , "
     ]
    }
   ],
   "source": [
    "# find fibonic series function\n",
    "\n",
    "n = int(input('Enter n of fibo terms : '))\n",
    "def fibo(n=10):\n",
    "    pre = 0\n",
    "    cur = 1\n",
    "    print(pre,end=' , ')\n",
    "    for i in range(1,n):\n",
    "        print(cur,end=' , ')\n",
    "        next = pre + cur\n",
    "        pre = cur\n",
    "        cur = next\n",
    "fibo()\n",
    "    "
   ]
  }
 ],
 "metadata": {
  "kernelspec": {
   "display_name": "Python 3",
   "language": "python",
   "name": "python3"
  },
  "language_info": {
   "codemirror_mode": {
    "name": "ipython",
    "version": 3
   },
   "file_extension": ".py",
   "mimetype": "text/x-python",
   "name": "python",
   "nbconvert_exporter": "python",
   "pygments_lexer": "ipython3",
   "version": "3.7.0"
  }
 },
 "nbformat": 4,
 "nbformat_minor": 2
}
