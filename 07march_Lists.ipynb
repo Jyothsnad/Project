{
 "cells": [
  {
   "cell_type": "code",
   "execution_count": 1,
   "metadata": {},
   "outputs": [
    {
     "name": "stdout",
     "output_type": "stream",
     "text": [
      "[]\n",
      "<class 'list'>\n",
      "1845206946312\n"
     ]
    }
   ],
   "source": [
    "# Empty list\n",
    "\n",
    "L = []\n",
    "print(L)\n",
    "print(type(L))\n",
    "print(id(L))"
   ]
  },
  {
   "cell_type": "code",
   "execution_count": 2,
   "metadata": {},
   "outputs": [
    {
     "name": "stdout",
     "output_type": "stream",
     "text": [
      "[]\n",
      "<class 'list'>\n",
      "1845207839176\n"
     ]
    }
   ],
   "source": [
    "# Empty list with list() function\n",
    "\n",
    "L = list()\n",
    "print(L)\n",
    "print(type(L))\n",
    "print(id(L))"
   ]
  },
  {
   "cell_type": "code",
   "execution_count": 3,
   "metadata": {},
   "outputs": [
    {
     "name": "stdout",
     "output_type": "stream",
     "text": [
      "[12, 45, 67, 78]\n",
      "<class 'list'>\n",
      "1845206948808\n"
     ]
    }
   ],
   "source": [
    "# list variable with Data\n",
    "\n",
    "L = [12,45,67,78]\n",
    "print(L)\n",
    "print(type(L))\n",
    "print(id(L))"
   ]
  },
  {
   "cell_type": "code",
   "execution_count": 6,
   "metadata": {},
   "outputs": [
    {
     "ename": "TypeError",
     "evalue": "list expected at most 1 arguments, got 4",
     "output_type": "error",
     "traceback": [
      "\u001b[1;31m---------------------------------------------------------------------------\u001b[0m",
      "\u001b[1;31mTypeError\u001b[0m                                 Traceback (most recent call last)",
      "\u001b[1;32m<ipython-input-6-1a82bdf1bfaf>\u001b[0m in \u001b[0;36m<module>\u001b[1;34m()\u001b[0m\n\u001b[0;32m      1\u001b[0m \u001b[1;31m# list data  with list() function\u001b[0m\u001b[1;33m\u001b[0m\u001b[1;33m\u001b[0m\u001b[0m\n\u001b[0;32m      2\u001b[0m \u001b[1;33m\u001b[0m\u001b[0m\n\u001b[1;32m----> 3\u001b[1;33m \u001b[0mL\u001b[0m \u001b[1;33m=\u001b[0m \u001b[0mlist\u001b[0m\u001b[1;33m(\u001b[0m\u001b[1;36m12\u001b[0m\u001b[1;33m,\u001b[0m\u001b[1;36m45\u001b[0m\u001b[1;33m,\u001b[0m\u001b[1;36m67\u001b[0m\u001b[1;33m,\u001b[0m\u001b[1;36m78\u001b[0m\u001b[1;33m)\u001b[0m\u001b[1;33m\u001b[0m\u001b[0m\n\u001b[0m\u001b[0;32m      4\u001b[0m \u001b[0mprint\u001b[0m\u001b[1;33m(\u001b[0m\u001b[0mL\u001b[0m\u001b[1;33m)\u001b[0m\u001b[1;33m\u001b[0m\u001b[0m\n\u001b[0;32m      5\u001b[0m \u001b[0mprint\u001b[0m\u001b[1;33m(\u001b[0m\u001b[0mtype\u001b[0m\u001b[1;33m(\u001b[0m\u001b[0mL\u001b[0m\u001b[1;33m)\u001b[0m\u001b[1;33m)\u001b[0m\u001b[1;33m\u001b[0m\u001b[0m\n",
      "\u001b[1;31mTypeError\u001b[0m: list expected at most 1 arguments, got 4"
     ]
    }
   ],
   "source": [
    "# list data  with list() function\n",
    "\n",
    "L = list(12,45,67,78)\n",
    "print(L)\n",
    "print(type(L))\n",
    "print(id(L))"
   ]
  },
  {
   "cell_type": "code",
   "execution_count": 7,
   "metadata": {},
   "outputs": [
    {
     "name": "stdout",
     "output_type": "stream",
     "text": [
      "[12, 45, 67, 78]\n",
      "<class 'list'>\n",
      "1845207840456\n"
     ]
    }
   ],
   "source": [
    "# list data  with list() function\n",
    "\n",
    "L = list([12,45,67,78])\n",
    "print(L)\n",
    "print(type(L))\n",
    "print(id(L))"
   ]
  },
  {
   "cell_type": "code",
   "execution_count": 9,
   "metadata": {},
   "outputs": [
    {
     "name": "stdout",
     "output_type": "stream",
     "text": [
      "[12, 45, 67, 3, 4]\n",
      "<class 'list'>\n",
      "1845197913352\n"
     ]
    }
   ],
   "source": [
    "# Homogeneous list\n",
    "\n",
    "L = [12,45,67,3,4]\n",
    "print(L)\n",
    "print(type(L))\n",
    "print(id(L))"
   ]
  },
  {
   "cell_type": "code",
   "execution_count": 10,
   "metadata": {},
   "outputs": [
    {
     "name": "stdout",
     "output_type": "stream",
     "text": [
      "[12, 45.34, True, None, (78+56j)]\n",
      "<class 'list'>\n",
      "1845197913544\n"
     ]
    }
   ],
   "source": [
    "# Heterogeneous list\n",
    "\n",
    "L = [12,45.34,True,None,78+56j]\n",
    "print(L)\n",
    "print(type(L))\n",
    "print(id(L))"
   ]
  },
  {
   "cell_type": "code",
   "execution_count": 11,
   "metadata": {},
   "outputs": [
    {
     "name": "stdout",
     "output_type": "stream",
     "text": [
      "['Soc', [1, 2, 3], (1, 2, 3), {1, 2, 3}]\n",
      "<class 'list'>\n",
      "1845197913096\n"
     ]
    }
   ],
   "source": [
    "# Nested list\n",
    "\n",
    "L = ['Soc', [1,2,3],(1,2,3),{1,2,3}]\n",
    "print(L)\n",
    "print(type(L))\n",
    "print(id(L))"
   ]
  },
  {
   "cell_type": "code",
   "execution_count": 13,
   "metadata": {},
   "outputs": [
    {
     "name": "stdout",
     "output_type": "stream",
     "text": [
      "[12, 45, 67, 34, 78, 89]\n",
      "89\n"
     ]
    },
    {
     "ename": "IndexError",
     "evalue": "list index out of range",
     "output_type": "error",
     "traceback": [
      "\u001b[1;31m---------------------------------------------------------------------------\u001b[0m",
      "\u001b[1;31mIndexError\u001b[0m                                Traceback (most recent call last)",
      "\u001b[1;32m<ipython-input-13-e944bfcd825f>\u001b[0m in \u001b[0;36m<module>\u001b[1;34m()\u001b[0m\n\u001b[0;32m      9\u001b[0m \u001b[0mprint\u001b[0m\u001b[1;33m(\u001b[0m\u001b[0ma\u001b[0m\u001b[1;33m[\u001b[0m\u001b[1;36m5\u001b[0m\u001b[1;33m]\u001b[0m\u001b[1;33m)\u001b[0m\u001b[1;33m\u001b[0m\u001b[0m\n\u001b[0;32m     10\u001b[0m \u001b[1;33m\u001b[0m\u001b[0m\n\u001b[1;32m---> 11\u001b[1;33m \u001b[0mprint\u001b[0m\u001b[1;33m(\u001b[0m\u001b[0ma\u001b[0m\u001b[1;33m[\u001b[0m\u001b[1;36m6\u001b[0m\u001b[1;33m]\u001b[0m\u001b[1;33m)\u001b[0m\u001b[1;33m\u001b[0m\u001b[0m\n\u001b[0m",
      "\u001b[1;31mIndexError\u001b[0m: list index out of range"
     ]
    }
   ],
   "source": [
    "# Accessing the data from list\n",
    "\n",
    "a = [12,45,67,34,78,89]\n",
    "\n",
    "# Positive Indexing\n",
    "\n",
    "print(a)\n",
    "\n",
    "print(a[5])\n",
    "\n",
    "print(a[6])"
   ]
  },
  {
   "cell_type": "code",
   "execution_count": 15,
   "metadata": {},
   "outputs": [
    {
     "name": "stdout",
     "output_type": "stream",
     "text": [
      "89\n",
      "12\n"
     ]
    }
   ],
   "source": [
    "# Negative Indexing\n",
    "\n",
    "print(a[-1])\n",
    "\n",
    "print(a[-6])"
   ]
  },
  {
   "cell_type": "code",
   "execution_count": 18,
   "metadata": {},
   "outputs": [
    {
     "name": "stdout",
     "output_type": "stream",
     "text": [
      "[12, 45, 67, 34, 78, 89]\n",
      "[67, 34, 78]\n",
      "[12, 45, 67, 34, 78]\n"
     ]
    }
   ],
   "source": [
    "# Slicing\n",
    "\n",
    "print(a)\n",
    "\n",
    "print(a[2:5])\n",
    "\n",
    "print(a[:5])"
   ]
  },
  {
   "cell_type": "code",
   "execution_count": 25,
   "metadata": {},
   "outputs": [
    {
     "name": "stdout",
     "output_type": "stream",
     "text": [
      "[12, 45, 67, 34, 78, 89]\n",
      "[45, 34, 89]\n",
      "[45, 34]\n",
      "[45, 67, 34, 78]\n",
      "[12, 45, 67, 34, 78]\n"
     ]
    }
   ],
   "source": [
    "# Dicing\n",
    "\n",
    "print(a)\n",
    "\n",
    "print(a[1::2])\n",
    "\n",
    "print(a[1:5:2])\n",
    "\n",
    "print(a[1:5:])\n",
    "\n",
    "print(a[:5:])"
   ]
  },
  {
   "cell_type": "code",
   "execution_count": 27,
   "metadata": {},
   "outputs": [
    {
     "name": "stdout",
     "output_type": "stream",
     "text": [
      "[12, 45, 67, 34, 78, 89]\n",
      "[12, 45, 'Python', 34, 78, 89]\n"
     ]
    }
   ],
   "source": [
    "# Setting the list data element\n",
    "\n",
    "print(a)\n",
    "\n",
    "# Indexing setting\n",
    "\n",
    "a[2] = 'Python'\n",
    "print(a)"
   ]
  },
  {
   "cell_type": "code",
   "execution_count": 28,
   "metadata": {},
   "outputs": [
    {
     "name": "stdout",
     "output_type": "stream",
     "text": [
      "[12, 1, 2, 3, 78, 89]\n"
     ]
    }
   ],
   "source": [
    "# Slicing setting\n",
    "\n",
    "a[1:4] = [1,2,3]\n",
    "\n",
    "print(a)"
   ]
  },
  {
   "cell_type": "code",
   "execution_count": 29,
   "metadata": {},
   "outputs": [
    {
     "name": "stdout",
     "output_type": "stream",
     "text": [
      "['a', 1, 'o', 3, 'u', 89]\n"
     ]
    }
   ],
   "source": [
    "# Dicing setting\n",
    "\n",
    "a[0:5:2] = ['a','o','u']\n",
    "\n",
    "print(a)"
   ]
  }
 ],
 "metadata": {
  "kernelspec": {
   "display_name": "Python 3",
   "language": "python",
   "name": "python3"
  },
  "language_info": {
   "codemirror_mode": {
    "name": "ipython",
    "version": 3
   },
   "file_extension": ".py",
   "mimetype": "text/x-python",
   "name": "python",
   "nbconvert_exporter": "python",
   "pygments_lexer": "ipython3",
   "version": "3.7.0"
  }
 },
 "nbformat": 4,
 "nbformat_minor": 2
}
