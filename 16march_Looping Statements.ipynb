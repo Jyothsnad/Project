{
 "cells": [
  {
   "cell_type": "markdown",
   "metadata": {},
   "source": [
    "While Loop\n",
    "\n",
    "Repeat the loop based on condition"
   ]
  },
  {
   "cell_type": "code",
   "execution_count": null,
   "metadata": {},
   "outputs": [],
   "source": [
    "# Infinite Loop\n",
    "\n",
    "while(True):\n",
    "    Print('Hello')\n",
    "else:\n",
    "    print('else')"
   ]
  },
  {
   "cell_type": "code",
   "execution_count": 1,
   "metadata": {},
   "outputs": [
    {
     "name": "stdout",
     "output_type": "stream",
     "text": [
      "else\n"
     ]
    }
   ],
   "source": [
    "# Infinite Loop\n",
    "\n",
    "while(False):\n",
    "    Print('Hello')\n",
    "else:\n",
    "    print('else')"
   ]
  },
  {
   "cell_type": "code",
   "execution_count": 5,
   "metadata": {},
   "outputs": [
    {
     "name": "stdout",
     "output_type": "stream",
     "text": [
      "Enter n Value : 5\n",
      "i =  1\n",
      "i =  2\n",
      "i =  3\n",
      "i =  4\n",
      "i =  5\n",
      "i is exceeded n\n"
     ]
    }
   ],
   "source": [
    "# Print 1 to n (n is user choice)\n",
    "\n",
    "n = int(input('Enter n Value : '))\n",
    "i = 1\n",
    "while(i<=n):\n",
    "    print('i = ',i)\n",
    "    i+=1\n",
    "else:\n",
    "    print('i is exceeded n')"
   ]
  },
  {
   "cell_type": "code",
   "execution_count": 6,
   "metadata": {},
   "outputs": [
    {
     "name": "stdout",
     "output_type": "stream",
     "text": [
      "Enter the n Value : 5\n",
      "5  *  1  =  5\n",
      "5  *  2  =  10\n",
      "5  *  3  =  15\n",
      "5  *  4  =  20\n",
      "5  *  5  =  25\n",
      "5  *  6  =  30\n",
      "5  *  7  =  35\n",
      "5  *  8  =  40\n",
      "5  *  9  =  45\n",
      "5  *  10  =  50\n"
     ]
    }
   ],
   "source": [
    "# print Multiplication table of 5\n",
    "\n",
    "n = int(input('Enter the n Value : '))\n",
    "i = 1\n",
    "while(i<=10):\n",
    "    print(n,' * ',i,' = ',n*i)\n",
    "    i+=1"
   ]
  },
  {
   "cell_type": "markdown",
   "metadata": {},
   "source": [
    "For loop\n",
    "\n",
    "depends on number of data elements in sequential data variable"
   ]
  },
  {
   "cell_type": "code",
   "execution_count": 7,
   "metadata": {},
   "outputs": [
    {
     "name": "stdout",
     "output_type": "stream",
     "text": [
      "Element =  1\n",
      "Element =  4\n",
      "Element =  2\n",
      "Element =  9\n",
      "Element =  7\n",
      "No Updation\n"
     ]
    }
   ],
   "source": [
    "# print data elements in sequence\n",
    "\n",
    "seq = [1,4,2,9,7]\n",
    "for ele in seq:\n",
    "    print('Element = ',ele)\n",
    "else:\n",
    "    print('No Updation')"
   ]
  },
  {
   "cell_type": "code",
   "execution_count": 9,
   "metadata": {},
   "outputs": [
    {
     "name": "stdout",
     "output_type": "stream",
     "text": [
      "Length =  8\n"
     ]
    }
   ],
   "source": [
    "# find the length of Sequence\n",
    "\n",
    "seq = [1,2,3,4,5,6,78,67]\n",
    "l = 0\n",
    "for i in seq:\n",
    "    l+=1\n",
    "else:\n",
    "    print('Length = ',l)"
   ]
  },
  {
   "cell_type": "code",
   "execution_count": 12,
   "metadata": {},
   "outputs": [
    {
     "name": "stdout",
     "output_type": "stream",
     "text": [
      "Enter the Sequence of Elements : 2468\n",
      "[2, 4, 6, 8]\n",
      "Length =  4\n"
     ]
    }
   ],
   "source": [
    "seq = list(input('Enter the Sequence of Elements : '))\n",
    "i = 0\n",
    "for ele in seq:\n",
    "    seq[i] = int(ele)\n",
    "    i+=1\n",
    "print(seq)\n",
    "print('Length = ',i)"
   ]
  }
 ],
 "metadata": {
  "kernelspec": {
   "display_name": "Python 3",
   "language": "python",
   "name": "python3"
  },
  "language_info": {
   "codemirror_mode": {
    "name": "ipython",
    "version": 3
   },
   "file_extension": ".py",
   "mimetype": "text/x-python",
   "name": "python",
   "nbconvert_exporter": "python",
   "pygments_lexer": "ipython3",
   "version": "3.7.0"
  }
 },
 "nbformat": 4,
 "nbformat_minor": 2
}
