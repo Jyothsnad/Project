{
 "cells": [
  {
   "cell_type": "markdown",
   "metadata": {},
   "source": [
    "Simple if"
   ]
  },
  {
   "cell_type": "code",
   "execution_count": 28,
   "metadata": {},
   "outputs": [
    {
     "name": "stdout",
     "output_type": "stream",
     "text": [
      "Hello\n",
      "Hi\n",
      "Bye\n"
     ]
    }
   ],
   "source": [
    "if True:\n",
    "    print('Hello')\n",
    "    print('Hi')\n",
    "    print('Bye')\n",
    "else:\n",
    "    print('Condition is False')"
   ]
  },
  {
   "cell_type": "code",
   "execution_count": 27,
   "metadata": {},
   "outputs": [
    {
     "name": "stdout",
     "output_type": "stream",
     "text": [
      "Condition is False\n"
     ]
    }
   ],
   "source": [
    "if False:\n",
    "    print('Hello')\n",
    "    print('Hi')\n",
    "    print('Bye')\n",
    "else:\n",
    "    print('Condition is False')"
   ]
  },
  {
   "cell_type": "code",
   "execution_count": 5,
   "metadata": {},
   "outputs": [
    {
     "name": "stdout",
     "output_type": "stream",
     "text": [
      "Enter Number : 4\n",
      "Square of  4 is  16\n"
     ]
    }
   ],
   "source": [
    "# find the Square of a Number when given Number is Even\n",
    "\n",
    "num = int(input('Enter Number : '))\n",
    "if (num%2 == 0):\n",
    "    sqr = num**2\n",
    "    print('Square of ',num,'is ',sqr)\n",
    "else:\n",
    "    print('I am out of if')"
   ]
  },
  {
   "cell_type": "code",
   "execution_count": 6,
   "metadata": {},
   "outputs": [
    {
     "name": "stdout",
     "output_type": "stream",
     "text": [
      "Enter Number : 9\n",
      "I am out of if\n"
     ]
    }
   ],
   "source": [
    "# find the Square of a Number when given Number is Even\n",
    "\n",
    "num = int(input('Enter Number : '))\n",
    "if (num%2 == 0):\n",
    "    sqr = num**2\n",
    "    print('Square of ',num,'is ',sqr)\n",
    "else:\n",
    "    print('I am out of if')"
   ]
  },
  {
   "cell_type": "code",
   "execution_count": 13,
   "metadata": {},
   "outputs": [
    {
     "name": "stdout",
     "output_type": "stream",
     "text": [
      "Enter Number : 15\n",
      "Mul =  225\n"
     ]
    }
   ],
   "source": [
    "# find the multiplication of Number with 3 & 5 if it's divisible of 3 & 5\n",
    "\n",
    "num = int(input('Enter Number : '))\n",
    "if(num%3 == 0 and num%5 == 0):\n",
    "    mul = num*3*5\n",
    "    print('Mul = ',mul)"
   ]
  },
  {
   "cell_type": "code",
   "execution_count": 16,
   "metadata": {},
   "outputs": [
    {
     "name": "stdout",
     "output_type": "stream",
     "text": [
      "Enter Number : -1\n",
      "Factorial is not possible\n"
     ]
    }
   ],
   "source": [
    "# Print Factorial is not possible when given number is < 0\n",
    "\n",
    "num = int(input('Enter Number : '))\n",
    "if(num < 0):\n",
    "    print('Factorial is not possible')"
   ]
  },
  {
   "cell_type": "code",
   "execution_count": 21,
   "metadata": {},
   "outputs": [
    {
     "name": "stdout",
     "output_type": "stream",
     "text": [
      "Enter Side of Square in m : 20\n",
      "Area of Squre is  400\n"
     ]
    }
   ],
   "source": [
    "# find the area of square when side is more than 10m\n",
    "\n",
    "side = int(input('Enter Side of Square in m : '))\n",
    "if (side > 10):\n",
    "    area = side * side\n",
    "    print('Area of Squre is ',area)"
   ]
  },
  {
   "cell_type": "code",
   "execution_count": 26,
   "metadata": {},
   "outputs": [
    {
     "name": "stdout",
     "output_type": "stream",
     "text": [
      "Enter one side of Triangle : 5\n",
      "Enter other side of Triangle : 5\n",
      "Enter hypotensue of Triangle : 5\n",
      "Equiliteral Triangle\n"
     ]
    }
   ],
   "source": [
    "# Print the given Triangle is Equiliteral Triangle\n",
    "\n",
    "a = int(input('Enter one side of Triangle : '))\n",
    "b = int(input('Enter other side of Triangle : '))\n",
    "h = int(input('Enter hypotensue of Triangle : '))\n",
    "if (a == b == h):\n",
    "    print('Equiliteral Triangle')"
   ]
  }
 ],
 "metadata": {
  "kernelspec": {
   "display_name": "Python 3",
   "language": "python",
   "name": "python3"
  },
  "language_info": {
   "codemirror_mode": {
    "name": "ipython",
    "version": 3
   },
   "file_extension": ".py",
   "mimetype": "text/x-python",
   "name": "python",
   "nbconvert_exporter": "python",
   "pygments_lexer": "ipython3",
   "version": "3.7.0"
  }
 },
 "nbformat": 4,
 "nbformat_minor": 2
}
