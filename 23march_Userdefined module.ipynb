{
 "cells": [
  {
   "cell_type": "code",
   "execution_count": null,
   "metadata": {},
   "outputs": [],
   "source": [
    "'''\n",
    "Its collection of n no.of \n",
    "function definitions and Classes definitions\n",
    "\n",
    "'''\n",
    "\n",
    "def fun1():\n",
    "    print('I am fun1 definition')\n",
    "    \n",
    "def fun2():\n",
    "    print('I am fun2 definition')\n",
    "    \n",
    "def fun3():\n",
    "    print('I am fun3 definition')"
   ]
  }
 ],
 "metadata": {
  "kernelspec": {
   "display_name": "Python 3",
   "language": "python",
   "name": "python3"
  },
  "language_info": {
   "codemirror_mode": {
    "name": "ipython",
    "version": 3
   },
   "file_extension": ".py",
   "mimetype": "text/x-python",
   "name": "python",
   "nbconvert_exporter": "python",
   "pygments_lexer": "ipython3",
   "version": "3.7.0"
  }
 },
 "nbformat": 4,
 "nbformat_minor": 2
}
