{
 "cells": [
  {
   "cell_type": "markdown",
   "metadata": {},
   "source": [
    "# File:\n",
    "\n",
    "---> File is a part of the Storage device\n",
    "\n",
    "---> File can store realted Information\n",
    "\n",
    "# Types of Files:\n",
    "\n",
    "1. Text Files\n",
    "\n",
    "2. Binary Files\n",
    "\n",
    "\n",
    "# Text File (t):\n",
    "\n",
    "--> The file can store alphanumeric characters\n",
    "\n",
    "--> So taht we can easly write it and read it\n",
    "\n",
    "Examples:\n",
    "\n",
    "1. .doc files\n",
    "2. .txt\n",
    "3. .c / .py / .java ( program source code file)\n",
    "\n",
    "\n",
    "# Binary File (b):\n",
    "\n",
    "--> the file can store only binary data (0, 1)\n",
    "\n",
    "--> so that its not esay to write and read \n",
    "\n",
    "Examples:\n",
    "\n",
    "1. mp3 / mp4/ vlc / ----> video files\n",
    "2. .jpg / .png --> image files\n"
   ]
  },
  {
   "cell_type": "markdown",
   "metadata": {},
   "source": [
    "# File handling:\n",
    "\n",
    "--> using python functions we ahve to do the file operations\n",
    "\n",
    "--> There are the following file operations are available\n",
    "\n",
    "1. Creating / Opening   (  open )\n",
    "2. Closing  ( close )\n",
    "3. Reading  ( read )\n",
    "4. Writing ( write )\n",
    "\n",
    "\n",
    "# Creating / Opening file\n",
    "\n",
    "--> For doing this operation we have open function \n",
    "\n",
    "syntax:\n",
    "---------\n",
    "\n",
    "file_obj = open('filename_path','mode')\n",
    "\n",
    "file_name_path: \n",
    "----------------------\n",
    "---> we have to give file name with location in your computer\n",
    "\n",
    "mode:\n",
    "--------\n",
    "read  --> 'r'  ---> default\n",
    "\n",
    "write --> 'w' \n",
    "\n",
    "append --> 'a'\n",
    "\n"
   ]
  },
  {
   "cell_type": "code",
   "execution_count": 12,
   "metadata": {},
   "outputs": [
    {
     "name": "stdout",
     "output_type": "stream",
     "text": [
      "Anjan Kumar\n",
      "\n"
     ]
    }
   ],
   "source": [
    "# read mode\n",
    "\n",
    "'''\n",
    "--> default mode is 'r' mode\n",
    "--> if it is 'r' mode the file is not existed then it's raise error\n",
    "--> if you open the file in read mode we can't write the data into the file\n",
    "--> the content of file is safe mode\n",
    "'''\n",
    "fo = open('Anjan.txt')\n",
    "#data = fo.readline()    # read only single line\n",
    "#data = fo.readlines()    # read all lines\n",
    "#data = fo.read()              # read whole data\n",
    "data = fo.read(12)               # read no.of characters\n",
    "'''\n",
    "data = 'Hello'\n",
    "fo.write(data)\n",
    "'''\n",
    "print(data) \n",
    "fo.close()"
   ]
  },
  {
   "cell_type": "code",
   "execution_count": 26,
   "metadata": {},
   "outputs": [
    {
     "name": "stdout",
     "output_type": "stream",
     "text": [
      "Enter some data : Welcome to AI World by anjan kumar\n"
     ]
    }
   ],
   "source": [
    "# write mode\n",
    "\n",
    "'''\n",
    "--> if we open the file using write mode, file existed with content, the file content will lose\n",
    "--> file is not existed then creats new file\n",
    "--> file is not possible to read\n",
    "'''\n",
    "\n",
    "fo = open('Anjan.txt','w')\n",
    "data = input('Enter some data : ')\n",
    "fo.write(data)\n",
    "#fo.read()\n",
    "fo.close()"
   ]
  },
  {
   "cell_type": "code",
   "execution_count": 27,
   "metadata": {},
   "outputs": [],
   "source": [
    "# append mode\n",
    "\n",
    "'''\n",
    "--> if we open the file using write mode, file existed with content, the file content will be safe\n",
    "--> file is not existed then creats new file\n",
    "--> file is not possible to read\n",
    "--> we can't modify existing data\n",
    "--> we can write new data at end of the file\n",
    "'''\n",
    "\n",
    "fo = open('Anjan.txt','a')\n",
    "fo.write(' Hello this is Anjan kumar')\n",
    "#fo.read()\n",
    "fo.close()"
   ]
  }
 ],
 "metadata": {
  "kernelspec": {
   "display_name": "Python 3",
   "language": "python",
   "name": "python3"
  },
  "language_info": {
   "codemirror_mode": {
    "name": "ipython",
    "version": 3
   },
   "file_extension": ".py",
   "mimetype": "text/x-python",
   "name": "python",
   "nbconvert_exporter": "python",
   "pygments_lexer": "ipython3",
   "version": "3.7.0"
  }
 },
 "nbformat": 4,
 "nbformat_minor": 2
}
