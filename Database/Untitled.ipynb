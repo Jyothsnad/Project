{
 "cells": [
  {
   "cell_type": "code",
   "execution_count": 4,
   "metadata": {},
   "outputs": [],
   "source": [
    "# to connect any databse\n",
    "import sqlite3 as sq\n",
    "con = sq.connect('Hai.db')"
   ]
  },
  {
   "cell_type": "code",
   "execution_count": 5,
   "metadata": {},
   "outputs": [],
   "source": [
    "# using cursor object we can automate database\n",
    "\n",
    "cur = con.cursor()"
   ]
  },
  {
   "cell_type": "code",
   "execution_count": 7,
   "metadata": {},
   "outputs": [
    {
     "data": {
      "text/plain": [
       "<sqlite3.Cursor at 0x21f8c976110>"
      ]
     },
     "execution_count": 7,
     "metadata": {},
     "output_type": "execute_result"
    }
   ],
   "source": [
    "cur.execute('create table search1(STOVEPIPE,DATACENTER,VSN,FQDN,IP,PORT,POLICY,DEVICE)')"
   ]
  },
  {
   "cell_type": "code",
   "execution_count": 47,
   "metadata": {},
   "outputs": [
    {
     "data": {
      "text/plain": [
       "<sqlite3.Cursor at 0x21f8c976110>"
      ]
     },
     "execution_count": 47,
     "metadata": {},
     "output_type": "execute_result"
    }
   ],
   "source": [
    "cur.execute('INSERT INTO search1 VALUES (\"PIHMP\", \"UTC-B\", \"VS_EXTRAPHO_EDA\" ,\"NO URL\", \"10.136.65.200\" ,\"1234\", \"NO POLICY\",\"12PIHMP-WAF01Y.FANNIEMAE.COM\")')\n"
   ]
  },
  {
   "cell_type": "code",
   "execution_count": 68,
   "metadata": {},
   "outputs": [
    {
     "data": {
      "text/plain": [
       "[('PIHMP',\n",
       "  'UTC-B',\n",
       "  'VS_EXTRAPHO_EDA',\n",
       "  'NO URL',\n",
       "  '10.136.65.200',\n",
       "  '4873',\n",
       "  'NO POLICY',\n",
       "  '12PIHMP-WAF01Y.FANNIEMAE.COM'),\n",
       " ('PIHMP',\n",
       "  'UTC-B',\n",
       "  'VS_EXTRAPHO_EDA',\n",
       "  'NO URL',\n",
       "  '10.136.65.200',\n",
       "  '1234',\n",
       "  'NO POLICY',\n",
       "  '12PIHMP-WAF01Y.FANNIEMAE.COM')]"
      ]
     },
     "execution_count": 68,
     "metadata": {},
     "output_type": "execute_result"
    }
   ],
   "source": [
    "#search = ['%1234%']\n",
    "query = \"SELECT * from search1 WHERE (STOVEPIPE || DATACENTER || \\\n",
    "        VSN || FQDN || IP || PORT || POLICY || DEVICE LIKE '%UTC-B%')\"; \n",
    "result = cur.execute(query).fetchall()\n",
    "result"
   ]
  },
  {
   "cell_type": "code",
   "execution_count": 48,
   "metadata": {},
   "outputs": [
    {
     "name": "stdout",
     "output_type": "stream",
     "text": [
      "('DCBA', 'UTC-A', 'VS_EXTRAPHO_EDA', 'NO URL', '10.136.65.200', '4873', 'NO POLICY', '12PIHMP-WAF01Y.FANNIEMAE.COM')\n",
      "('ABCD', 'UTC-A', 'VS_EXTRAPHO_EDA', 'NO URL', '10.136.65.200', '4873', 'NO POLICY', '12PIHMP-WAF01Y.FANNIEMAE.COM')\n",
      "('PIHMP', 'UTC-A', 'VS_EXTRAPHO_EDA', 'NO URL', '10.136.65.200', '4873', 'NO POLICY', '12PIHMP-WAF01Y.FANNIEMAE.COM')\n",
      "('PIHMP', 'UTC-B', 'VS_EXTRAPHO_EDA', 'NO URL', '10.136.65.200', '4873', 'NO POLICY', '12PIHMP-WAF01Y.FANNIEMAE.COM')\n",
      "('PIHMP', 'UTC-B', 'VS_EXTRAPHO_EDA', 'NO URL', '10.136.65.200', '1234', 'NO POLICY', '12PIHMP-WAF01Y.FANNIEMAE.COM')\n"
     ]
    }
   ],
   "source": [
    "cur.execute('select * from search1')\n",
    "\n",
    "for record in cur.fetchall():\n",
    "    print(record)"
   ]
  },
  {
   "cell_type": "code",
   "execution_count": 12,
   "metadata": {},
   "outputs": [],
   "source": [
    "con.commit()"
   ]
  },
  {
   "cell_type": "code",
   "execution_count": null,
   "metadata": {},
   "outputs": [],
   "source": [
    "con.close()"
   ]
  }
 ],
 "metadata": {
  "kernelspec": {
   "display_name": "Python 3",
   "language": "python",
   "name": "python3"
  },
  "language_info": {
   "codemirror_mode": {
    "name": "ipython",
    "version": 3
   },
   "file_extension": ".py",
   "mimetype": "text/x-python",
   "name": "python",
   "nbconvert_exporter": "python",
   "pygments_lexer": "ipython3",
   "version": "3.7.0"
  }
 },
 "nbformat": 4,
 "nbformat_minor": 2
}
